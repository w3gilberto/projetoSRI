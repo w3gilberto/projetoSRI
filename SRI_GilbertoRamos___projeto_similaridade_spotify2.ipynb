{
  "nbformat": 4,
  "nbformat_minor": 0,
  "metadata": {
    "kernelspec": {
      "display_name": "Python 3",
      "language": "python",
      "name": "python3"
    },
    "language_info": {
      "codemirror_mode": {
        "name": "ipython",
        "version": 3
      },
      "file_extension": ".py",
      "mimetype": "text/x-python",
      "name": "python",
      "nbconvert_exporter": "python",
      "pygments_lexer": "ipython3",
      "version": "3.6.7"
    },
    "colab": {
      "name": "SRI_GilbertoRamos___projeto_similaridade_spotify.ipynb",
      "provenance": [],
      "collapsed_sections": []
    }
  },
  "cells": [
    {
      "cell_type": "markdown",
      "metadata": {
        "id": "7KBTlpMZ5qyG"
      },
      "source": [
        "Projeto da Disciplina SRI - Prof Flávio Codeço Coelho - Aluno: Gilberto Ramos - 30.11.2021\n",
        "## Mapeamento de Similaridade Musical com dados do Spotify usando a biblioteca Gensim/Word2Vec e a modelagem de Distância de Cosseno.\n",
        "\n"
      ]
    },
    {
      "cell_type": "code",
      "metadata": {
        "id": "mnHK-esY8ku-",
        "colab": {
          "base_uri": "https://localhost:8080/"
        },
        "outputId": "a7890515-a2d6-4806-ba47-3a761efb822e"
      },
      "source": [
        "import pandas as pd\n",
        "pd.options.mode.chained_assignment = None\n",
        "import matplotlib.pyplot as plt\n",
        "%matplotlib notebook\n",
        "import numpy as np\n",
        "import seaborn as sns\n",
        "import warnings\n",
        "warnings.filterwarnings('ignore')\n",
        "import re  # For preprocessing\n",
        "import pandas as pd  # For data handling\n",
        "from time import time  # To time our operations\n",
        "from collections import defaultdict  # For word frequency\n",
        "\n",
        "import spacy  # For preprocessing\n",
        "from gensim.models import Word2Vec\n",
        "import logging  # Setting up the loggings to monitor gensim\n",
        "logging.basicConfig(format=\"%(levelname)s - %(asctime)s: %(message)s\", datefmt= '%H:%M:%S', level=logging.INFO)\n",
        "from sklearn.manifold import TSNE\n",
        "from numpy import dot\n",
        "from numpy.linalg import norm\n",
        "#from gensim.models.tfidfmodel import TfidfModel\n",
        "import nltk\n",
        "nltk.download('stopwords')"
      ],
      "execution_count": null,
      "outputs": [
        {
          "output_type": "stream",
          "name": "stdout",
          "text": [
            "[nltk_data] Downloading package stopwords to /root/nltk_data...\n",
            "[nltk_data]   Package stopwords is already up-to-date!\n"
          ]
        },
        {
          "output_type": "execute_result",
          "data": {
            "text/plain": [
              "True"
            ]
          },
          "metadata": {},
          "execution_count": 1
        }
      ]
    },
    {
      "cell_type": "markdown",
      "metadata": {
        "id": "64gFVVGd8kvF"
      },
      "source": [
        "# Fonte do Dataset Spotify"
      ]
    },
    {
      "cell_type": "markdown",
      "metadata": {
        "id": "gnt5pnIp8kvO"
      },
      "source": [
        "fonte do Dataset: Kaggle \n",
        "(https://www.kaggle.com/geomack/spotifyclassification) Este é um dataset de atributos de músicas da base do Spotify de 2019/2020 com 2004 registros, inclui atributos como:\n",
        "acústica, dançabilidade, duração, energia, instrumentalidade, etc..\n",
        "Usaremos esses recursos para gerar os embeddings de palavras para cada música e, em seguida, comparar as semelhanças entre as diferentes músicas. \n"
      ]
    },
    {
      "cell_type": "code",
      "metadata": {
        "colab": {
          "resources": {
            "http://localhost:8080/nbextensions/google.colab/files.js": {
              "data": "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",
              "ok": true,
              "headers": [
                [
                  "content-type",
                  "application/javascript"
                ]
              ],
              "status": 200,
              "status_text": "OK"
            }
          },
          "base_uri": "https://localhost:8080/",
          "height": 75
        },
        "id": "79LjxgTsoEUi",
        "outputId": "d8514dd4-442a-4b58-a661-b4cfdbce9993"
      },
      "source": [
        "from google.colab import files \n",
        "uploaded = files.upload()\n",
        "df = pd.read_csv('data_spotify9.csv',sep=\";\")\n",
        "\n"
      ],
      "execution_count": null,
      "outputs": [
        {
          "output_type": "display_data",
          "data": {
            "text/html": [
              "\n",
              "     <input type=\"file\" id=\"files-5df40fe6-0817-43cc-8b29-1d783972e275\" name=\"files[]\" multiple disabled\n",
              "        style=\"border:none\" />\n",
              "     <output id=\"result-5df40fe6-0817-43cc-8b29-1d783972e275\">\n",
              "      Upload widget is only available when the cell has been executed in the\n",
              "      current browser session. Please rerun this cell to enable.\n",
              "      </output>\n",
              "      <script src=\"/nbextensions/google.colab/files.js\"></script> "
            ],
            "text/plain": [
              "<IPython.core.display.HTML object>"
            ]
          },
          "metadata": {}
        },
        {
          "output_type": "stream",
          "name": "stdout",
          "text": [
            "Saving data_spotify9.csv to data_spotify9 (1).csv\n"
          ]
        }
      ]
    },
    {
      "cell_type": "code",
      "metadata": {
        "colab": {
          "base_uri": "https://localhost:8080/"
        },
        "id": "YlIDMIpNyD6Y",
        "outputId": "a1d7b578-9f88-44ea-9f52-f452e13cdd83"
      },
      "source": [
        "df.shape"
      ],
      "execution_count": null,
      "outputs": [
        {
          "output_type": "execute_result",
          "data": {
            "text/plain": [
              "(2004, 16)"
            ]
          },
          "metadata": {},
          "execution_count": 3
        }
      ]
    },
    {
      "cell_type": "code",
      "metadata": {
        "colab": {
          "base_uri": "https://localhost:8080/"
        },
        "id": "5Cepq4FwJyvl",
        "outputId": "2d52840b-ba09-4566-ef4b-0eaca022fe92"
      },
      "source": [
        "df.info()"
      ],
      "execution_count": null,
      "outputs": [
        {
          "output_type": "stream",
          "name": "stdout",
          "text": [
            "<class 'pandas.core.frame.DataFrame'>\n",
            "RangeIndex: 2004 entries, 0 to 2003\n",
            "Data columns (total 16 columns):\n",
            " #   Column            Non-Null Count  Dtype  \n",
            "---  ------            --------------  -----  \n",
            " 0   song_title        2004 non-null   object \n",
            " 1   artist            2004 non-null   object \n",
            " 2   acousticness      2004 non-null   float64\n",
            " 3   danceability      2004 non-null   float64\n",
            " 4   duration_ms       2004 non-null   int64  \n",
            " 5   energy            2004 non-null   float64\n",
            " 6   instrumentalness  2004 non-null   object \n",
            " 7   key               2004 non-null   int64  \n",
            " 8   liveness          2004 non-null   float64\n",
            " 9   loudness          2004 non-null   float64\n",
            " 10  mode              2004 non-null   int64  \n",
            " 11  speechiness       2004 non-null   float64\n",
            " 12  tempo             2004 non-null   float64\n",
            " 13  time_signature    2004 non-null   float64\n",
            " 14  valence           2004 non-null   float64\n",
            " 15  target            2004 non-null   int64  \n",
            "dtypes: float64(9), int64(4), object(3)\n",
            "memory usage: 250.6+ KB\n"
          ]
        }
      ]
    },
    {
      "cell_type": "code",
      "metadata": {
        "colab": {
          "base_uri": "https://localhost:8080/",
          "height": 739
        },
        "id": "EIkkAiLV3dSy",
        "outputId": "3fa0a2b0-bc53-41ea-b3b7-7b10e52319aa"
      },
      "source": [
        "df.sort_values(by=['song_title','artist'])"
      ],
      "execution_count": null,
      "outputs": [
        {
          "output_type": "execute_result",
          "data": {
            "text/html": [
              "<div>\n",
              "<style scoped>\n",
              "    .dataframe tbody tr th:only-of-type {\n",
              "        vertical-align: middle;\n",
              "    }\n",
              "\n",
              "    .dataframe tbody tr th {\n",
              "        vertical-align: top;\n",
              "    }\n",
              "\n",
              "    .dataframe thead th {\n",
              "        text-align: right;\n",
              "    }\n",
              "</style>\n",
              "<table border=\"1\" class=\"dataframe\">\n",
              "  <thead>\n",
              "    <tr style=\"text-align: right;\">\n",
              "      <th></th>\n",
              "      <th>song_title</th>\n",
              "      <th>artist</th>\n",
              "      <th>acousticness</th>\n",
              "      <th>danceability</th>\n",
              "      <th>duration_ms</th>\n",
              "      <th>energy</th>\n",
              "      <th>instrumentalness</th>\n",
              "      <th>key</th>\n",
              "      <th>liveness</th>\n",
              "      <th>loudness</th>\n",
              "      <th>mode</th>\n",
              "      <th>speechiness</th>\n",
              "      <th>tempo</th>\n",
              "      <th>time_signature</th>\n",
              "      <th>valence</th>\n",
              "      <th>target</th>\n",
              "    </tr>\n",
              "  </thead>\n",
              "  <tbody>\n",
              "    <tr>\n",
              "      <th>585</th>\n",
              "      <td>'Till I Collapse</td>\n",
              "      <td>Eminem</td>\n",
              "      <td>0.075700</td>\n",
              "      <td>0.572</td>\n",
              "      <td>297893</td>\n",
              "      <td>0.853</td>\n",
              "      <td>0.0</td>\n",
              "      <td>1</td>\n",
              "      <td>0.0798</td>\n",
              "      <td>-3.203</td>\n",
              "      <td>1</td>\n",
              "      <td>0.2170</td>\n",
              "      <td>171.297</td>\n",
              "      <td>4.0</td>\n",
              "      <td>0.0995</td>\n",
              "      <td>0</td>\n",
              "    </tr>\n",
              "    <tr>\n",
              "      <th>816</th>\n",
              "      <td>(Bonus) Break Her Down</td>\n",
              "      <td>Iamsu!</td>\n",
              "      <td>0.000548</td>\n",
              "      <td>0.831</td>\n",
              "      <td>155042</td>\n",
              "      <td>0.373</td>\n",
              "      <td>0.000362</td>\n",
              "      <td>1</td>\n",
              "      <td>0.1000</td>\n",
              "      <td>-6.896</td>\n",
              "      <td>1</td>\n",
              "      <td>0.1570</td>\n",
              "      <td>96.115</td>\n",
              "      <td>4.0</td>\n",
              "      <td>0.3560</td>\n",
              "      <td>1</td>\n",
              "    </tr>\n",
              "    <tr>\n",
              "      <th>269</th>\n",
              "      <td>(Everything I Do) I Do It For You</td>\n",
              "      <td>Bryan Adams</td>\n",
              "      <td>0.080300</td>\n",
              "      <td>0.524</td>\n",
              "      <td>393827</td>\n",
              "      <td>0.429</td>\n",
              "      <td>1.37e-05</td>\n",
              "      <td>1</td>\n",
              "      <td>0.0726</td>\n",
              "      <td>-10.064</td>\n",
              "      <td>1</td>\n",
              "      <td>0.0279</td>\n",
              "      <td>131.206</td>\n",
              "      <td>4.0</td>\n",
              "      <td>0.2370</td>\n",
              "      <td>0</td>\n",
              "    </tr>\n",
              "    <tr>\n",
              "      <th>259</th>\n",
              "      <td>(You Drive Me) Crazy</td>\n",
              "      <td>Britney Spears</td>\n",
              "      <td>0.053400</td>\n",
              "      <td>0.748</td>\n",
              "      <td>198067</td>\n",
              "      <td>0.939</td>\n",
              "      <td>0.0</td>\n",
              "      <td>0</td>\n",
              "      <td>0.3200</td>\n",
              "      <td>-4.288</td>\n",
              "      <td>0</td>\n",
              "      <td>0.0341</td>\n",
              "      <td>104.001</td>\n",
              "      <td>4.0</td>\n",
              "      <td>0.9620</td>\n",
              "      <td>0</td>\n",
              "    </tr>\n",
              "    <tr>\n",
              "      <th>260</th>\n",
              "      <td>...Baby One More Time</td>\n",
              "      <td>Britney Spears</td>\n",
              "      <td>0.185000</td>\n",
              "      <td>0.757</td>\n",
              "      <td>211160</td>\n",
              "      <td>0.725</td>\n",
              "      <td>5.56e-05</td>\n",
              "      <td>0</td>\n",
              "      <td>0.5680</td>\n",
              "      <td>-4.860</td>\n",
              "      <td>0</td>\n",
              "      <td>0.0315</td>\n",
              "      <td>92.960</td>\n",
              "      <td>4.0</td>\n",
              "      <td>0.8870</td>\n",
              "      <td>0</td>\n",
              "    </tr>\n",
              "    <tr>\n",
              "      <th>...</th>\n",
              "      <td>...</td>\n",
              "      <td>...</td>\n",
              "      <td>...</td>\n",
              "      <td>...</td>\n",
              "      <td>...</td>\n",
              "      <td>...</td>\n",
              "      <td>...</td>\n",
              "      <td>...</td>\n",
              "      <td>...</td>\n",
              "      <td>...</td>\n",
              "      <td>...</td>\n",
              "      <td>...</td>\n",
              "      <td>...</td>\n",
              "      <td>...</td>\n",
              "      <td>...</td>\n",
              "      <td>...</td>\n",
              "    </tr>\n",
              "    <tr>\n",
              "      <th>938</th>\n",
              "      <td>three hundred Violin Orchestra</td>\n",
              "      <td>Jorge Quintero</td>\n",
              "      <td>0.342000</td>\n",
              "      <td>0.591</td>\n",
              "      <td>178026</td>\n",
              "      <td>0.750</td>\n",
              "      <td>0.363</td>\n",
              "      <td>1</td>\n",
              "      <td>0.0804</td>\n",
              "      <td>-6.599</td>\n",
              "      <td>0</td>\n",
              "      <td>0.0479</td>\n",
              "      <td>149.931</td>\n",
              "      <td>4.0</td>\n",
              "      <td>0.3800</td>\n",
              "      <td>0</td>\n",
              "    </tr>\n",
              "    <tr>\n",
              "      <th>427</th>\n",
              "      <td>twent five Bucks [feat. Purity Ring]</td>\n",
              "      <td>Danny Brown</td>\n",
              "      <td>0.320000</td>\n",
              "      <td>0.723</td>\n",
              "      <td>210880</td>\n",
              "      <td>0.848</td>\n",
              "      <td>0.0</td>\n",
              "      <td>5</td>\n",
              "      <td>0.1440</td>\n",
              "      <td>-7.110</td>\n",
              "      <td>1</td>\n",
              "      <td>0.0833</td>\n",
              "      <td>116.021</td>\n",
              "      <td>4.0</td>\n",
              "      <td>0.2610</td>\n",
              "      <td>1</td>\n",
              "    </tr>\n",
              "    <tr>\n",
              "      <th>868</th>\n",
              "      <td>two hundred Press</td>\n",
              "      <td>James Blake</td>\n",
              "      <td>0.304000</td>\n",
              "      <td>0.785</td>\n",
              "      <td>373243</td>\n",
              "      <td>0.573</td>\n",
              "      <td>0.403</td>\n",
              "      <td>5</td>\n",
              "      <td>0.0824</td>\n",
              "      <td>-9.082</td>\n",
              "      <td>0</td>\n",
              "      <td>0.0416</td>\n",
              "      <td>126.465</td>\n",
              "      <td>4.0</td>\n",
              "      <td>0.6260</td>\n",
              "      <td>1</td>\n",
              "    </tr>\n",
              "    <tr>\n",
              "      <th>119</th>\n",
              "      <td>two one two</td>\n",
              "      <td>Azealia Banks</td>\n",
              "      <td>0.085200</td>\n",
              "      <td>0.858</td>\n",
              "      <td>203373</td>\n",
              "      <td>0.789</td>\n",
              "      <td>0.0</td>\n",
              "      <td>11</td>\n",
              "      <td>0.2290</td>\n",
              "      <td>-7.462</td>\n",
              "      <td>0</td>\n",
              "      <td>0.2910</td>\n",
              "      <td>125.993</td>\n",
              "      <td>4.0</td>\n",
              "      <td>0.6580</td>\n",
              "      <td>1</td>\n",
              "    </tr>\n",
              "    <tr>\n",
              "      <th>529</th>\n",
              "      <td>zero To hundred / The Catch Up</td>\n",
              "      <td>Drake</td>\n",
              "      <td>0.763000</td>\n",
              "      <td>0.707</td>\n",
              "      <td>275227</td>\n",
              "      <td>0.709</td>\n",
              "      <td>0.0</td>\n",
              "      <td>11</td>\n",
              "      <td>0.2740</td>\n",
              "      <td>-3.979</td>\n",
              "      <td>0</td>\n",
              "      <td>0.3400</td>\n",
              "      <td>89.094</td>\n",
              "      <td>4.0</td>\n",
              "      <td>0.4970</td>\n",
              "      <td>1</td>\n",
              "    </tr>\n",
              "  </tbody>\n",
              "</table>\n",
              "<p>2004 rows × 16 columns</p>\n",
              "</div>"
            ],
            "text/plain": [
              "                               song_title          artist  ...  valence  target\n",
              "585                      'Till I Collapse          Eminem  ...   0.0995       0\n",
              "816                (Bonus) Break Her Down          Iamsu!  ...   0.3560       1\n",
              "269     (Everything I Do) I Do It For You     Bryan Adams  ...   0.2370       0\n",
              "259                  (You Drive Me) Crazy  Britney Spears  ...   0.9620       0\n",
              "260                 ...Baby One More Time  Britney Spears  ...   0.8870       0\n",
              "..                                    ...             ...  ...      ...     ...\n",
              "938        three hundred Violin Orchestra  Jorge Quintero  ...   0.3800       0\n",
              "427  twent five Bucks [feat. Purity Ring]     Danny Brown  ...   0.2610       1\n",
              "868                     two hundred Press     James Blake  ...   0.6260       1\n",
              "119                           two one two   Azealia Banks  ...   0.6580       1\n",
              "529        zero To hundred / The Catch Up           Drake  ...   0.4970       1\n",
              "\n",
              "[2004 rows x 16 columns]"
            ]
          },
          "metadata": {},
          "execution_count": 5
        }
      ]
    },
    {
      "cell_type": "code",
      "metadata": {
        "colab": {
          "base_uri": "https://localhost:8080/",
          "height": 626
        },
        "id": "pkzL7UkZUW85",
        "outputId": "4a879ce6-9813-4ca5-e4c6-d1126fca247e"
      },
      "source": [
        "df.head(10)"
      ],
      "execution_count": null,
      "outputs": [
        {
          "output_type": "execute_result",
          "data": {
            "text/html": [
              "<div>\n",
              "<style scoped>\n",
              "    .dataframe tbody tr th:only-of-type {\n",
              "        vertical-align: middle;\n",
              "    }\n",
              "\n",
              "    .dataframe tbody tr th {\n",
              "        vertical-align: top;\n",
              "    }\n",
              "\n",
              "    .dataframe thead th {\n",
              "        text-align: right;\n",
              "    }\n",
              "</style>\n",
              "<table border=\"1\" class=\"dataframe\">\n",
              "  <thead>\n",
              "    <tr style=\"text-align: right;\">\n",
              "      <th></th>\n",
              "      <th>song_title</th>\n",
              "      <th>artist</th>\n",
              "      <th>acousticness</th>\n",
              "      <th>danceability</th>\n",
              "      <th>duration_ms</th>\n",
              "      <th>energy</th>\n",
              "      <th>instrumentalness</th>\n",
              "      <th>key</th>\n",
              "      <th>liveness</th>\n",
              "      <th>loudness</th>\n",
              "      <th>mode</th>\n",
              "      <th>speechiness</th>\n",
              "      <th>tempo</th>\n",
              "      <th>time_signature</th>\n",
              "      <th>valence</th>\n",
              "      <th>target</th>\n",
              "    </tr>\n",
              "  </thead>\n",
              "  <tbody>\n",
              "    <tr>\n",
              "      <th>0</th>\n",
              "      <td>Slyd</td>\n",
              "      <td>!!!</td>\n",
              "      <td>0.06260</td>\n",
              "      <td>0.858</td>\n",
              "      <td>254920</td>\n",
              "      <td>0.717</td>\n",
              "      <td>0.243</td>\n",
              "      <td>0</td>\n",
              "      <td>0.2160</td>\n",
              "      <td>-8.734</td>\n",
              "      <td>1</td>\n",
              "      <td>0.0995</td>\n",
              "      <td>120.004</td>\n",
              "      <td>4.0</td>\n",
              "      <td>0.593</td>\n",
              "      <td>1</td>\n",
              "    </tr>\n",
              "    <tr>\n",
              "      <th>1</th>\n",
              "      <td>Bye Bye Bye</td>\n",
              "      <td>NSYNC</td>\n",
              "      <td>0.01980</td>\n",
              "      <td>0.571</td>\n",
              "      <td>199640</td>\n",
              "      <td>0.870</td>\n",
              "      <td>6.6e-06</td>\n",
              "      <td>8</td>\n",
              "      <td>0.0564</td>\n",
              "      <td>-3.877</td>\n",
              "      <td>0</td>\n",
              "      <td>0.0641</td>\n",
              "      <td>172.716</td>\n",
              "      <td>4.0</td>\n",
              "      <td>0.815</td>\n",
              "      <td>0</td>\n",
              "    </tr>\n",
              "    <tr>\n",
              "      <th>2</th>\n",
              "      <td>God Must Have Spent a Little More Time on You ...</td>\n",
              "      <td>NSYNC</td>\n",
              "      <td>0.44000</td>\n",
              "      <td>0.468</td>\n",
              "      <td>243493</td>\n",
              "      <td>0.535</td>\n",
              "      <td>0.0</td>\n",
              "      <td>10</td>\n",
              "      <td>0.1010</td>\n",
              "      <td>-8.264</td>\n",
              "      <td>1</td>\n",
              "      <td>0.0436</td>\n",
              "      <td>168.001</td>\n",
              "      <td>4.0</td>\n",
              "      <td>0.298</td>\n",
              "      <td>0</td>\n",
              "    </tr>\n",
              "    <tr>\n",
              "      <th>3</th>\n",
              "      <td>I Want You Back - Radio Edit</td>\n",
              "      <td>NSYNC</td>\n",
              "      <td>0.07430</td>\n",
              "      <td>0.754</td>\n",
              "      <td>199787</td>\n",
              "      <td>0.946</td>\n",
              "      <td>0.000391</td>\n",
              "      <td>8</td>\n",
              "      <td>0.4010</td>\n",
              "      <td>-2.149</td>\n",
              "      <td>0</td>\n",
              "      <td>0.0403</td>\n",
              "      <td>112.042</td>\n",
              "      <td>4.0</td>\n",
              "      <td>0.865</td>\n",
              "      <td>0</td>\n",
              "    </tr>\n",
              "    <tr>\n",
              "      <th>4</th>\n",
              "      <td>It's Gonna Be Me</td>\n",
              "      <td>NSYNC</td>\n",
              "      <td>0.04790</td>\n",
              "      <td>0.647</td>\n",
              "      <td>191280</td>\n",
              "      <td>0.870</td>\n",
              "      <td>0.0</td>\n",
              "      <td>0</td>\n",
              "      <td>0.0485</td>\n",
              "      <td>-4.702</td>\n",
              "      <td>0</td>\n",
              "      <td>0.0798</td>\n",
              "      <td>165.103</td>\n",
              "      <td>4.0</td>\n",
              "      <td>0.906</td>\n",
              "      <td>0</td>\n",
              "    </tr>\n",
              "    <tr>\n",
              "      <th>5</th>\n",
              "      <td>Pop - Radio Version</td>\n",
              "      <td>NSYNC</td>\n",
              "      <td>0.04120</td>\n",
              "      <td>0.841</td>\n",
              "      <td>175520</td>\n",
              "      <td>0.866</td>\n",
              "      <td>0.0</td>\n",
              "      <td>11</td>\n",
              "      <td>0.2120</td>\n",
              "      <td>-6.342</td>\n",
              "      <td>1</td>\n",
              "      <td>0.1180</td>\n",
              "      <td>119.941</td>\n",
              "      <td>4.0</td>\n",
              "      <td>0.875</td>\n",
              "      <td>0</td>\n",
              "    </tr>\n",
              "    <tr>\n",
              "      <th>6</th>\n",
              "      <td>Tearin' up My Heart - Radio Edit</td>\n",
              "      <td>NSYNC</td>\n",
              "      <td>0.00799</td>\n",
              "      <td>0.685</td>\n",
              "      <td>209560</td>\n",
              "      <td>0.872</td>\n",
              "      <td>0.0</td>\n",
              "      <td>7</td>\n",
              "      <td>0.3230</td>\n",
              "      <td>-6.939</td>\n",
              "      <td>1</td>\n",
              "      <td>0.0321</td>\n",
              "      <td>110.046</td>\n",
              "      <td>4.0</td>\n",
              "      <td>0.806</td>\n",
              "      <td>0</td>\n",
              "    </tr>\n",
              "    <tr>\n",
              "      <th>7</th>\n",
              "      <td>Tearin' up My Heart - Radio Edit</td>\n",
              "      <td>NSYNC</td>\n",
              "      <td>0.00280</td>\n",
              "      <td>0.686</td>\n",
              "      <td>211000</td>\n",
              "      <td>0.915</td>\n",
              "      <td>7.16e-06</td>\n",
              "      <td>7</td>\n",
              "      <td>0.2330</td>\n",
              "      <td>-4.447</td>\n",
              "      <td>1</td>\n",
              "      <td>0.0364</td>\n",
              "      <td>110.054</td>\n",
              "      <td>4.0</td>\n",
              "      <td>0.784</td>\n",
              "      <td>0</td>\n",
              "    </tr>\n",
              "    <tr>\n",
              "      <th>8</th>\n",
              "      <td>This I Promise You - Radio Edit</td>\n",
              "      <td>NSYNC</td>\n",
              "      <td>0.30000</td>\n",
              "      <td>0.550</td>\n",
              "      <td>266293</td>\n",
              "      <td>0.563</td>\n",
              "      <td>0.0</td>\n",
              "      <td>2</td>\n",
              "      <td>0.1220</td>\n",
              "      <td>-7.019</td>\n",
              "      <td>1</td>\n",
              "      <td>0.0313</td>\n",
              "      <td>166.004</td>\n",
              "      <td>4.0</td>\n",
              "      <td>0.462</td>\n",
              "      <td>0</td>\n",
              "    </tr>\n",
              "    <tr>\n",
              "      <th>9</th>\n",
              "      <td>My eyes</td>\n",
              "      <td>ten cm</td>\n",
              "      <td>0.43900</td>\n",
              "      <td>0.892</td>\n",
              "      <td>157001</td>\n",
              "      <td>0.443</td>\n",
              "      <td>0.0</td>\n",
              "      <td>0</td>\n",
              "      <td>0.0866</td>\n",
              "      <td>-6.181</td>\n",
              "      <td>1</td>\n",
              "      <td>0.0379</td>\n",
              "      <td>107.984</td>\n",
              "      <td>4.0</td>\n",
              "      <td>0.729</td>\n",
              "      <td>0</td>\n",
              "    </tr>\n",
              "  </tbody>\n",
              "</table>\n",
              "</div>"
            ],
            "text/plain": [
              "                                          song_title  artist  ...  valence  target\n",
              "0                                               Slyd     !!!  ...    0.593       1\n",
              "1                                        Bye Bye Bye   NSYNC  ...    0.815       0\n",
              "2  God Must Have Spent a Little More Time on You ...   NSYNC  ...    0.298       0\n",
              "3                       I Want You Back - Radio Edit   NSYNC  ...    0.865       0\n",
              "4                                   It's Gonna Be Me   NSYNC  ...    0.906       0\n",
              "5                                Pop - Radio Version   NSYNC  ...    0.875       0\n",
              "6                   Tearin' up My Heart - Radio Edit   NSYNC  ...    0.806       0\n",
              "7                   Tearin' up My Heart - Radio Edit   NSYNC  ...    0.784       0\n",
              "8                    This I Promise You - Radio Edit   NSYNC  ...    0.462       0\n",
              "9                                            My eyes  ten cm  ...    0.729       0\n",
              "\n",
              "[10 rows x 16 columns]"
            ]
          },
          "metadata": {},
          "execution_count": 6
        }
      ]
    },
    {
      "cell_type": "markdown",
      "metadata": {
        "id": "CeJ5z-hx4f9P"
      },
      "source": [
        "## **Compreendendo os atributos do Dataset:** \n",
        ">**Danceability**: descreve como uma faixa é adequada para dançar com base em uma combinação de elementos musicais, incluindo andamento, estabilidade do ritmo, intensidade da batida e regularidade geral.\n",
        "\n",
        ">**Valence**: Descreve a positividade musical transmitida por uma faixa. Faixas com alta valência soam mais positivas (por exemplo, feliz, alegre, eufórico), enquanto faixas com baixa valência soam mais negativas (por exemplo, triste, deprimido, com raiva).\n",
        "\n",
        ">**Energy**: representa uma medida perceptiva de intensidade e atividade. Normalmente, as faixas energéticas parecem rápidas, altas e barulhentas. Por exemplo, death metal tem alta energia, enquanto um prelúdio de Bach tem pontuação baixa na escala.\n",
        "\n",
        ">**Tempo**: O tempo estimado geral de uma faixa em batidas por minuto (BPM). Na terminologia musical, o tempo é a velocidade ou ritmo de uma determinada peça e deriva diretamente da duração média do tempo.\n",
        "\n",
        ">**Loudness**: O volume geral de uma faixa em decibéis (dB). Os valores de sonoridade são calculados em toda a trilha e são úteis para comparar a sonoridade relativa das trilhas.\n",
        "\n",
        ">**Speechiness**: detecta a presença de palavras faladas em uma faixa. Quanto mais exclusivamente falada for a gravação (por exemplo, talk show, audiolivro, poesia), mais próximo de 1,0 será o valor do atributo.\n",
        "\n",
        ">**Instrumentalness**: prevê se uma faixa não contém vocais. Os sons “Ooh” e “aah” são tratados como instrumentais neste contexto. Faixas de rap ou palavra falada são claramente “vocais”.\n",
        "\n",
        ">**Liveness**: detecta a presença de um público na gravação. Valores de vivacidade mais altos representam um aumento na probabilidade de a trilha ter sido executada ao vivo.\n",
        "\n",
        ">**Acousticness**: Uma medida de confiança de 0,0 a 1,0 de se a faixa é acústica.\n",
        "\n",
        ">**Key**: a chave estimada da faixa(tonalidade/escala). Os inteiros mapeiam o pithbend usando a notação de classe de pitch padrão. Por exemplo. 0 = C, 1 = C♯ / D ♭, 2 = D e assim por diante.\n",
        "\n",
        ">**Mode**: indica a modalidade/tonalidade (maior ou menor) de uma faixa, o tipo de escala da qual seu conteúdo melódico é derivado. Maior é representado por 1 e menor é 0.\n",
        "\n",
        ">**Duration_ms**: a duração da trilha em milissegundos.\n",
        "\n",
        ">**Signature**: uma fórmula de compasso estimada de uma faixa. A fórmula de compasso (medidor) é uma convenção de notação para especificar quantas batidas existem em cada compasso."
      ]
    },
    {
      "cell_type": "code",
      "metadata": {
        "colab": {
          "base_uri": "https://localhost:8080/"
        },
        "id": "G6um_asNEKm-",
        "outputId": "9b4cc412-cc01-44e1-d978-a92e05e94188"
      },
      "source": [
        "duplicados = df[df.duplicated(keep='first')]\n",
        "print(duplicados)"
      ],
      "execution_count": null,
      "outputs": [
        {
          "output_type": "stream",
          "name": "stdout",
          "text": [
            "                         song_title         artist  ...  valence  target\n",
            "159                            Myth    Beach House  ...    0.404       1\n",
            "250                            Jack         Breach  ...    0.614       1\n",
            "822                           River          Ibeyi  ...    0.111       1\n",
            "921   Episode I - Duel of The Fates  John Williams  ...    0.217       1\n",
            "1176                    Her Fantasy   Matthew Dear  ...    0.207       1\n",
            "\n",
            "[5 rows x 16 columns]\n"
          ]
        }
      ]
    },
    {
      "cell_type": "code",
      "metadata": {
        "id": "479HFRtYEhOp"
      },
      "source": [
        "df.drop_duplicates(keep='first', inplace=True) "
      ],
      "execution_count": null,
      "outputs": []
    },
    {
      "cell_type": "code",
      "metadata": {
        "colab": {
          "base_uri": "https://localhost:8080/"
        },
        "id": "wdG-6rlQEmff",
        "outputId": "435500d8-171e-474a-e370-93ad5e326d70"
      },
      "source": [
        "duplicados = df[df.duplicated(keep='first')]\n",
        "print(duplicados)"
      ],
      "execution_count": null,
      "outputs": [
        {
          "output_type": "stream",
          "name": "stdout",
          "text": [
            "Empty DataFrame\n",
            "Columns: [song_title, artist, acousticness, danceability, duration_ms, energy, instrumentalness, key, liveness, loudness, mode, speechiness, tempo, time_signature, valence, target]\n",
            "Index: []\n"
          ]
        }
      ]
    },
    {
      "cell_type": "code",
      "metadata": {
        "colab": {
          "base_uri": "https://localhost:8080/",
          "height": 347
        },
        "id": "dKQD4PN8EvKG",
        "outputId": "e4cb7fc4-013f-4d46-e922-faa050f91b41"
      },
      "source": [
        "df.head()"
      ],
      "execution_count": null,
      "outputs": [
        {
          "output_type": "execute_result",
          "data": {
            "text/html": [
              "<div>\n",
              "<style scoped>\n",
              "    .dataframe tbody tr th:only-of-type {\n",
              "        vertical-align: middle;\n",
              "    }\n",
              "\n",
              "    .dataframe tbody tr th {\n",
              "        vertical-align: top;\n",
              "    }\n",
              "\n",
              "    .dataframe thead th {\n",
              "        text-align: right;\n",
              "    }\n",
              "</style>\n",
              "<table border=\"1\" class=\"dataframe\">\n",
              "  <thead>\n",
              "    <tr style=\"text-align: right;\">\n",
              "      <th></th>\n",
              "      <th>song_title</th>\n",
              "      <th>artist</th>\n",
              "      <th>acousticness</th>\n",
              "      <th>danceability</th>\n",
              "      <th>duration_ms</th>\n",
              "      <th>energy</th>\n",
              "      <th>instrumentalness</th>\n",
              "      <th>key</th>\n",
              "      <th>liveness</th>\n",
              "      <th>loudness</th>\n",
              "      <th>mode</th>\n",
              "      <th>speechiness</th>\n",
              "      <th>tempo</th>\n",
              "      <th>time_signature</th>\n",
              "      <th>valence</th>\n",
              "      <th>target</th>\n",
              "    </tr>\n",
              "  </thead>\n",
              "  <tbody>\n",
              "    <tr>\n",
              "      <th>0</th>\n",
              "      <td>Slyd</td>\n",
              "      <td>!!!</td>\n",
              "      <td>0.0626</td>\n",
              "      <td>0.858</td>\n",
              "      <td>254920</td>\n",
              "      <td>0.717</td>\n",
              "      <td>0.243</td>\n",
              "      <td>0</td>\n",
              "      <td>0.2160</td>\n",
              "      <td>-8.734</td>\n",
              "      <td>1</td>\n",
              "      <td>0.0995</td>\n",
              "      <td>120.004</td>\n",
              "      <td>4.0</td>\n",
              "      <td>0.593</td>\n",
              "      <td>1</td>\n",
              "    </tr>\n",
              "    <tr>\n",
              "      <th>1</th>\n",
              "      <td>Bye Bye Bye</td>\n",
              "      <td>NSYNC</td>\n",
              "      <td>0.0198</td>\n",
              "      <td>0.571</td>\n",
              "      <td>199640</td>\n",
              "      <td>0.870</td>\n",
              "      <td>6.6e-06</td>\n",
              "      <td>8</td>\n",
              "      <td>0.0564</td>\n",
              "      <td>-3.877</td>\n",
              "      <td>0</td>\n",
              "      <td>0.0641</td>\n",
              "      <td>172.716</td>\n",
              "      <td>4.0</td>\n",
              "      <td>0.815</td>\n",
              "      <td>0</td>\n",
              "    </tr>\n",
              "    <tr>\n",
              "      <th>2</th>\n",
              "      <td>God Must Have Spent a Little More Time on You ...</td>\n",
              "      <td>NSYNC</td>\n",
              "      <td>0.4400</td>\n",
              "      <td>0.468</td>\n",
              "      <td>243493</td>\n",
              "      <td>0.535</td>\n",
              "      <td>0.0</td>\n",
              "      <td>10</td>\n",
              "      <td>0.1010</td>\n",
              "      <td>-8.264</td>\n",
              "      <td>1</td>\n",
              "      <td>0.0436</td>\n",
              "      <td>168.001</td>\n",
              "      <td>4.0</td>\n",
              "      <td>0.298</td>\n",
              "      <td>0</td>\n",
              "    </tr>\n",
              "    <tr>\n",
              "      <th>3</th>\n",
              "      <td>I Want You Back - Radio Edit</td>\n",
              "      <td>NSYNC</td>\n",
              "      <td>0.0743</td>\n",
              "      <td>0.754</td>\n",
              "      <td>199787</td>\n",
              "      <td>0.946</td>\n",
              "      <td>0.000391</td>\n",
              "      <td>8</td>\n",
              "      <td>0.4010</td>\n",
              "      <td>-2.149</td>\n",
              "      <td>0</td>\n",
              "      <td>0.0403</td>\n",
              "      <td>112.042</td>\n",
              "      <td>4.0</td>\n",
              "      <td>0.865</td>\n",
              "      <td>0</td>\n",
              "    </tr>\n",
              "    <tr>\n",
              "      <th>4</th>\n",
              "      <td>It's Gonna Be Me</td>\n",
              "      <td>NSYNC</td>\n",
              "      <td>0.0479</td>\n",
              "      <td>0.647</td>\n",
              "      <td>191280</td>\n",
              "      <td>0.870</td>\n",
              "      <td>0.0</td>\n",
              "      <td>0</td>\n",
              "      <td>0.0485</td>\n",
              "      <td>-4.702</td>\n",
              "      <td>0</td>\n",
              "      <td>0.0798</td>\n",
              "      <td>165.103</td>\n",
              "      <td>4.0</td>\n",
              "      <td>0.906</td>\n",
              "      <td>0</td>\n",
              "    </tr>\n",
              "  </tbody>\n",
              "</table>\n",
              "</div>"
            ],
            "text/plain": [
              "                                          song_title artist  ...  valence  target\n",
              "0                                               Slyd    !!!  ...    0.593       1\n",
              "1                                        Bye Bye Bye  NSYNC  ...    0.815       0\n",
              "2  God Must Have Spent a Little More Time on You ...  NSYNC  ...    0.298       0\n",
              "3                       I Want You Back - Radio Edit  NSYNC  ...    0.865       0\n",
              "4                                   It's Gonna Be Me  NSYNC  ...    0.906       0\n",
              "\n",
              "[5 rows x 16 columns]"
            ]
          },
          "metadata": {},
          "execution_count": 10
        }
      ]
    },
    {
      "cell_type": "code",
      "metadata": {
        "colab": {
          "base_uri": "https://localhost:8080/"
        },
        "id": "wwQq1TEPGG8a",
        "outputId": "fc56cd52-6a03-4e5a-f331-83768dea31c5"
      },
      "source": [
        "df.isna().sum()"
      ],
      "execution_count": null,
      "outputs": [
        {
          "output_type": "execute_result",
          "data": {
            "text/plain": [
              "song_title          0\n",
              "artist              0\n",
              "acousticness        0\n",
              "danceability        0\n",
              "duration_ms         0\n",
              "energy              0\n",
              "instrumentalness    0\n",
              "key                 0\n",
              "liveness            0\n",
              "loudness            0\n",
              "mode                0\n",
              "speechiness         0\n",
              "tempo               0\n",
              "time_signature      0\n",
              "valence             0\n",
              "target              0\n",
              "dtype: int64"
            ]
          },
          "metadata": {},
          "execution_count": 11
        }
      ]
    },
    {
      "cell_type": "code",
      "metadata": {
        "colab": {
          "base_uri": "https://localhost:8080/"
        },
        "id": "pGVkH-czocGD",
        "outputId": "14dcc407-11bb-49f2-b422-6b566128dc39"
      },
      "source": [
        "df.isnull().sum()"
      ],
      "execution_count": null,
      "outputs": [
        {
          "output_type": "execute_result",
          "data": {
            "text/plain": [
              "song_title          0\n",
              "artist              0\n",
              "acousticness        0\n",
              "danceability        0\n",
              "duration_ms         0\n",
              "energy              0\n",
              "instrumentalness    0\n",
              "key                 0\n",
              "liveness            0\n",
              "loudness            0\n",
              "mode                0\n",
              "speechiness         0\n",
              "tempo               0\n",
              "time_signature      0\n",
              "valence             0\n",
              "target              0\n",
              "dtype: int64"
            ]
          },
          "metadata": {},
          "execution_count": 12
        }
      ]
    },
    {
      "cell_type": "code",
      "metadata": {
        "colab": {
          "base_uri": "https://localhost:8080/",
          "height": 320
        },
        "id": "DIS-8MxDuecU",
        "outputId": "9d5a8882-d372-4c48-9ef5-c2ecd9836532"
      },
      "source": [
        "df.describe()"
      ],
      "execution_count": null,
      "outputs": [
        {
          "output_type": "execute_result",
          "data": {
            "text/html": [
              "<div>\n",
              "<style scoped>\n",
              "    .dataframe tbody tr th:only-of-type {\n",
              "        vertical-align: middle;\n",
              "    }\n",
              "\n",
              "    .dataframe tbody tr th {\n",
              "        vertical-align: top;\n",
              "    }\n",
              "\n",
              "    .dataframe thead th {\n",
              "        text-align: right;\n",
              "    }\n",
              "</style>\n",
              "<table border=\"1\" class=\"dataframe\">\n",
              "  <thead>\n",
              "    <tr style=\"text-align: right;\">\n",
              "      <th></th>\n",
              "      <th>acousticness</th>\n",
              "      <th>danceability</th>\n",
              "      <th>duration_ms</th>\n",
              "      <th>energy</th>\n",
              "      <th>key</th>\n",
              "      <th>liveness</th>\n",
              "      <th>loudness</th>\n",
              "      <th>mode</th>\n",
              "      <th>speechiness</th>\n",
              "      <th>tempo</th>\n",
              "      <th>time_signature</th>\n",
              "      <th>valence</th>\n",
              "      <th>target</th>\n",
              "    </tr>\n",
              "  </thead>\n",
              "  <tbody>\n",
              "    <tr>\n",
              "      <th>count</th>\n",
              "      <td>1999.000000</td>\n",
              "      <td>1999.000000</td>\n",
              "      <td>1.999000e+03</td>\n",
              "      <td>1999.000000</td>\n",
              "      <td>1999.000000</td>\n",
              "      <td>1999.000000</td>\n",
              "      <td>1999.000000</td>\n",
              "      <td>1999.000000</td>\n",
              "      <td>1999.000000</td>\n",
              "      <td>1999.000000</td>\n",
              "      <td>1999.000000</td>\n",
              "      <td>1999.000000</td>\n",
              "      <td>1999.000000</td>\n",
              "    </tr>\n",
              "    <tr>\n",
              "      <th>mean</th>\n",
              "      <td>0.186497</td>\n",
              "      <td>0.618457</td>\n",
              "      <td>2.462214e+05</td>\n",
              "      <td>0.682768</td>\n",
              "      <td>5.347174</td>\n",
              "      <td>0.191052</td>\n",
              "      <td>-7.066971</td>\n",
              "      <td>0.612806</td>\n",
              "      <td>0.092745</td>\n",
              "      <td>121.666359</td>\n",
              "      <td>3.967984</td>\n",
              "      <td>0.497832</td>\n",
              "      <td>0.506753</td>\n",
              "    </tr>\n",
              "    <tr>\n",
              "      <th>std</th>\n",
              "      <td>0.258725</td>\n",
              "      <td>0.160679</td>\n",
              "      <td>8.217726e+04</td>\n",
              "      <td>0.209856</td>\n",
              "      <td>3.648128</td>\n",
              "      <td>0.155789</td>\n",
              "      <td>3.758154</td>\n",
              "      <td>0.487230</td>\n",
              "      <td>0.089742</td>\n",
              "      <td>26.692706</td>\n",
              "      <td>0.256985</td>\n",
              "      <td>0.247086</td>\n",
              "      <td>0.500079</td>\n",
              "    </tr>\n",
              "    <tr>\n",
              "      <th>min</th>\n",
              "      <td>0.000003</td>\n",
              "      <td>0.122000</td>\n",
              "      <td>1.604200e+04</td>\n",
              "      <td>0.014800</td>\n",
              "      <td>0.000000</td>\n",
              "      <td>0.018800</td>\n",
              "      <td>-33.097000</td>\n",
              "      <td>0.000000</td>\n",
              "      <td>0.023100</td>\n",
              "      <td>47.859000</td>\n",
              "      <td>1.000000</td>\n",
              "      <td>0.034800</td>\n",
              "      <td>0.000000</td>\n",
              "    </tr>\n",
              "    <tr>\n",
              "      <th>25%</th>\n",
              "      <td>0.009550</td>\n",
              "      <td>0.514000</td>\n",
              "      <td>1.999730e+05</td>\n",
              "      <td>0.564000</td>\n",
              "      <td>2.000000</td>\n",
              "      <td>0.092200</td>\n",
              "      <td>-8.392500</td>\n",
              "      <td>0.000000</td>\n",
              "      <td>0.037500</td>\n",
              "      <td>100.241500</td>\n",
              "      <td>4.000000</td>\n",
              "      <td>0.296000</td>\n",
              "      <td>0.000000</td>\n",
              "    </tr>\n",
              "    <tr>\n",
              "      <th>50%</th>\n",
              "      <td>0.062800</td>\n",
              "      <td>0.631000</td>\n",
              "      <td>2.289330e+05</td>\n",
              "      <td>0.717000</td>\n",
              "      <td>6.000000</td>\n",
              "      <td>0.127000</td>\n",
              "      <td>-6.240000</td>\n",
              "      <td>1.000000</td>\n",
              "      <td>0.055000</td>\n",
              "      <td>121.797000</td>\n",
              "      <td>4.000000</td>\n",
              "      <td>0.493000</td>\n",
              "      <td>1.000000</td>\n",
              "    </tr>\n",
              "    <tr>\n",
              "      <th>75%</th>\n",
              "      <td>0.263000</td>\n",
              "      <td>0.737500</td>\n",
              "      <td>2.703800e+05</td>\n",
              "      <td>0.847000</td>\n",
              "      <td>9.000000</td>\n",
              "      <td>0.247000</td>\n",
              "      <td>-4.732500</td>\n",
              "      <td>1.000000</td>\n",
              "      <td>0.108000</td>\n",
              "      <td>137.746500</td>\n",
              "      <td>4.000000</td>\n",
              "      <td>0.692000</td>\n",
              "      <td>1.000000</td>\n",
              "    </tr>\n",
              "    <tr>\n",
              "      <th>max</th>\n",
              "      <td>0.995000</td>\n",
              "      <td>0.984000</td>\n",
              "      <td>1.004627e+06</td>\n",
              "      <td>0.998000</td>\n",
              "      <td>11.000000</td>\n",
              "      <td>0.969000</td>\n",
              "      <td>-0.307000</td>\n",
              "      <td>1.000000</td>\n",
              "      <td>0.816000</td>\n",
              "      <td>219.331000</td>\n",
              "      <td>5.000000</td>\n",
              "      <td>0.992000</td>\n",
              "      <td>1.000000</td>\n",
              "    </tr>\n",
              "  </tbody>\n",
              "</table>\n",
              "</div>"
            ],
            "text/plain": [
              "       acousticness  danceability  ...      valence       target\n",
              "count   1999.000000   1999.000000  ...  1999.000000  1999.000000\n",
              "mean       0.186497      0.618457  ...     0.497832     0.506753\n",
              "std        0.258725      0.160679  ...     0.247086     0.500079\n",
              "min        0.000003      0.122000  ...     0.034800     0.000000\n",
              "25%        0.009550      0.514000  ...     0.296000     0.000000\n",
              "50%        0.062800      0.631000  ...     0.493000     1.000000\n",
              "75%        0.263000      0.737500  ...     0.692000     1.000000\n",
              "max        0.995000      0.984000  ...     0.992000     1.000000\n",
              "\n",
              "[8 rows x 13 columns]"
            ]
          },
          "metadata": {},
          "execution_count": 13
        }
      ]
    },
    {
      "cell_type": "markdown",
      "metadata": {
        "id": "LYKUmOKH8kvX"
      },
      "source": [
        "# Pré-processamento dos dados"
      ]
    },
    {
      "cell_type": "markdown",
      "metadata": {
        "id": "r1xa5I2Q8kvY"
      },
      "source": [
        "passo 1: efetuar uma EDA(análise exploratória de dados)\n",
        "\n",
        "passo2: gerar embeddings de palavras usando a biblioteca gensim/word2vec. \n",
        "\n",
        "passo3: seleção de features para o modelo word2vec.\n",
        "obs: Gensim-word2Vec requer um formato de 'lista de lista' para treinamento onde cada documento está contido em uma lista e cada lista contém uma lista de tokens desse documento. \n",
        "\n",
        "Primeiramente, precisamos gerar um formato de lista de lista para treinar a incorporação de palavras do modelo. Cada música está contida em uma lista e cada lista contém uma lista de recursos/atributos dessa música. \n",
        "Para tanto, vamos seguir as seguintes etapas de pré-processamento de dados:\n",
        "\n",
        "  >  Criar uma nova coluna para 'song_title' e 'artist'(bigrama), vou chamá-la de 'song_artist' (meu objetivo é mostrar a similaridade exibindo a música e o artista respectivo)\n",
        "\n",
        "  >  Gerar um formato de lista de lista para cada tipo de música com os seguintes recursos: \n",
        "\n",
        "acústica(acousticness),dançabilidade(danceability),energia(energy),instrumentalidade(instrumentalness),vivacidade(liveness),loudness(volume),valence(valência)\n",
        "\n"
      ]
    },
    {
      "cell_type": "markdown",
      "metadata": {
        "id": "19ZjXnJF8kvb"
      },
      "source": [
        "1. Criei a nova coluna para as colunas song_title e artist -> 'song_artist' (será meu bigrama)"
      ]
    },
    {
      "cell_type": "code",
      "metadata": {
        "colab": {
          "base_uri": "https://localhost:8080/"
        },
        "id": "a7CsBHRj8kvd",
        "outputId": "cd88bf74-7681-4d0f-dcd1-fc65582dd355"
      },
      "source": [
        "df['song_artist']= df['song_title']+ \" \" + df['artist']"
      ],
      "execution_count": null,
      "outputs": [
        {
          "output_type": "stream",
          "name": "stderr",
          "text": [
            "INFO - 14:18:46: NumExpr defaulting to 2 threads.\n"
          ]
        }
      ]
    },
    {
      "cell_type": "markdown",
      "metadata": {
        "id": "kvrcDnis8kvf"
      },
      "source": [
        "2. Gerando um formato 'lista de lista' para cada par 'song_title' 'artist' "
      ]
    },
    {
      "cell_type": "code",
      "metadata": {
        "id": "SilFRABnxyYJ"
      },
      "source": [
        "# selecionar as features do dataset original p/ formar um novo dataframe \n",
        "df1 = df[['acousticness','danceability','energy','liveness','loudness','valence','song_artist']]"
      ],
      "execution_count": null,
      "outputs": []
    },
    {
      "cell_type": "code",
      "metadata": {
        "id": "C9s_I885xwTE"
      },
      "source": [
        "STOP_WORDS = nltk.corpus.stopwords.words()"
      ],
      "execution_count": null,
      "outputs": []
    },
    {
      "cell_type": "code",
      "metadata": {
        "id": "VV2NaMUAx6OZ"
      },
      "source": [
        "def clean_sentence(val):\n",
        "    \"remova caracteres que não sejam letras ou números, coloque em letras minúsculas e remova stopwords\"\n",
        "    regex = re.compile('([^\\s\\w]|_)+')\n",
        "    sentence = regex.sub('', val).lower()\n",
        "    sentence = sentence.split(\" \")\n",
        "    for word in list(sentence):\n",
        "      if word in STOP_WORDS:\n",
        "         sentence.remove(word)\n",
        "         sentence = \" \".join(sentence)\n",
        "      return sentence"
      ],
      "execution_count": null,
      "outputs": []
    },
    {
      "cell_type": "code",
      "metadata": {
        "id": "ld10JbC0yBMs"
      },
      "source": [
        "def clean_dataframe(data):\n",
        "    \"remova NaNs, em seguida, aplique a função 'clean_sentence' para coluna 'song_artist'\"\n",
        "    data = data.dropna(how=\"any\")\n",
        "    for col in ['song_artist']:\n",
        "        data[col] = data[col].apply(clean_sentence)\n",
        "    return data"
      ],
      "execution_count": null,
      "outputs": []
    },
    {
      "cell_type": "code",
      "metadata": {
        "colab": {
          "base_uri": "https://localhost:8080/",
          "height": 206
        },
        "id": "DvPWEEntyNpd",
        "outputId": "438fe3e3-4f5c-4991-af92-1c59c673f647"
      },
      "source": [
        "#efetuando a limpeza da coluna de texto\n",
        "data = df1\n",
        "data = clean_dataframe(data)\n",
        "data.head(5)\n"
      ],
      "execution_count": null,
      "outputs": [
        {
          "output_type": "execute_result",
          "data": {
            "text/html": [
              "<div>\n",
              "<style scoped>\n",
              "    .dataframe tbody tr th:only-of-type {\n",
              "        vertical-align: middle;\n",
              "    }\n",
              "\n",
              "    .dataframe tbody tr th {\n",
              "        vertical-align: top;\n",
              "    }\n",
              "\n",
              "    .dataframe thead th {\n",
              "        text-align: right;\n",
              "    }\n",
              "</style>\n",
              "<table border=\"1\" class=\"dataframe\">\n",
              "  <thead>\n",
              "    <tr style=\"text-align: right;\">\n",
              "      <th></th>\n",
              "      <th>acousticness</th>\n",
              "      <th>danceability</th>\n",
              "      <th>energy</th>\n",
              "      <th>liveness</th>\n",
              "      <th>loudness</th>\n",
              "      <th>valence</th>\n",
              "      <th>song_artist</th>\n",
              "    </tr>\n",
              "  </thead>\n",
              "  <tbody>\n",
              "    <tr>\n",
              "      <th>0</th>\n",
              "      <td>0.0626</td>\n",
              "      <td>0.858</td>\n",
              "      <td>0.717</td>\n",
              "      <td>0.2160</td>\n",
              "      <td>-8.734</td>\n",
              "      <td>0.593</td>\n",
              "      <td>[slyd, ]</td>\n",
              "    </tr>\n",
              "    <tr>\n",
              "      <th>1</th>\n",
              "      <td>0.0198</td>\n",
              "      <td>0.571</td>\n",
              "      <td>0.870</td>\n",
              "      <td>0.0564</td>\n",
              "      <td>-3.877</td>\n",
              "      <td>0.815</td>\n",
              "      <td>[bye, bye, bye, nsync]</td>\n",
              "    </tr>\n",
              "    <tr>\n",
              "      <th>2</th>\n",
              "      <td>0.4400</td>\n",
              "      <td>0.468</td>\n",
              "      <td>0.535</td>\n",
              "      <td>0.1010</td>\n",
              "      <td>-8.264</td>\n",
              "      <td>0.298</td>\n",
              "      <td>[god, must, have, spent, a, little, more, time...</td>\n",
              "    </tr>\n",
              "    <tr>\n",
              "      <th>3</th>\n",
              "      <td>0.0743</td>\n",
              "      <td>0.754</td>\n",
              "      <td>0.946</td>\n",
              "      <td>0.4010</td>\n",
              "      <td>-2.149</td>\n",
              "      <td>0.865</td>\n",
              "      <td>want you back  radio edit nsync</td>\n",
              "    </tr>\n",
              "    <tr>\n",
              "      <th>4</th>\n",
              "      <td>0.0479</td>\n",
              "      <td>0.647</td>\n",
              "      <td>0.870</td>\n",
              "      <td>0.0485</td>\n",
              "      <td>-4.702</td>\n",
              "      <td>0.906</td>\n",
              "      <td>gonna be me nsync</td>\n",
              "    </tr>\n",
              "  </tbody>\n",
              "</table>\n",
              "</div>"
            ],
            "text/plain": [
              "   acousticness  ...                                        song_artist\n",
              "0        0.0626  ...                                           [slyd, ]\n",
              "1        0.0198  ...                             [bye, bye, bye, nsync]\n",
              "2        0.4400  ...  [god, must, have, spent, a, little, more, time...\n",
              "3        0.0743  ...                    want you back  radio edit nsync\n",
              "4        0.0479  ...                                  gonna be me nsync\n",
              "\n",
              "[5 rows x 7 columns]"
            ]
          },
          "metadata": {},
          "execution_count": 19
        }
      ]
    },
    {
      "cell_type": "code",
      "metadata": {
        "colab": {
          "base_uri": "https://localhost:8080/"
        },
        "id": "ELApDtPl8kvh",
        "outputId": "d4645159-badc-411f-a426-93c48897a6db"
      },
      "source": [
        "\n",
        "# Para cada linha, combinar todas as colunas em uma única coluna que vou chamar de 'bagOfWords'\n",
        "df2 = df1.apply(lambda x: ','.join(x.astype(str)), axis=1) \n",
        "\n",
        "# Alocá-la no nosso dataframe\n",
        "df_bagOfWords = pd.DataFrame({'bagOfWords': df2}) \n",
        "\n",
        "# Criar no formato de lista de lista p/ um corpus customizado para modelagem do gensim.\n",
        "corpus = [row.split(',') for row in df_bagOfWords['bagOfWords']]\n",
        "\n",
        "# mostrando 2 linhas como exemplo de lista de lista do corpus customizado para modelagem do gensim.\n",
        "corpus[:2] "
      ],
      "execution_count": null,
      "outputs": [
        {
          "output_type": "execute_result",
          "data": {
            "text/plain": [
              "[['0.0626',\n",
              "  '0.858',\n",
              "  '0.7170000000000001',\n",
              "  '0.21600000000000003',\n",
              "  '-8.734',\n",
              "  '0.593',\n",
              "  'Slyd !!!'],\n",
              " ['0.0198',\n",
              "  '0.5710000000000001',\n",
              "  '0.87',\n",
              "  '0.0564',\n",
              "  '-3.877',\n",
              "  '0.815',\n",
              "  'Bye Bye Bye NSYNC']]"
            ]
          },
          "metadata": {},
          "execution_count": 20
        }
      ]
    },
    {
      "cell_type": "code",
      "metadata": {
        "colab": {
          "base_uri": "https://localhost:8080/"
        },
        "id": "lNazOKdVK4sr",
        "outputId": "cc5a2606-725a-4bfd-e655-a68a96fa7522"
      },
      "source": [
        "df2.head(5)"
      ],
      "execution_count": null,
      "outputs": [
        {
          "output_type": "execute_result",
          "data": {
            "text/plain": [
              "0    0.0626,0.858,0.7170000000000001,0.216000000000...\n",
              "1    0.0198,0.5710000000000001,0.87,0.0564,-3.877,0...\n",
              "2    0.44,0.46799999999999997,0.535,0.1009999999999...\n",
              "3    0.0743,0.754,0.946,0.401,-2.149,0.865,I Want Y...\n",
              "4    0.0479,0.647,0.87,0.0485,-4.702,0.905999999999...\n",
              "dtype: object"
            ]
          },
          "metadata": {},
          "execution_count": 21
        }
      ]
    },
    {
      "cell_type": "code",
      "metadata": {
        "colab": {
          "base_uri": "https://localhost:8080/",
          "height": 206
        },
        "id": "yo5ohqffK_jw",
        "outputId": "bfe43a98-4c9d-49f1-f705-4c460cf1bbb7"
      },
      "source": [
        "df_bagOfWords.head()"
      ],
      "execution_count": null,
      "outputs": [
        {
          "output_type": "execute_result",
          "data": {
            "text/html": [
              "<div>\n",
              "<style scoped>\n",
              "    .dataframe tbody tr th:only-of-type {\n",
              "        vertical-align: middle;\n",
              "    }\n",
              "\n",
              "    .dataframe tbody tr th {\n",
              "        vertical-align: top;\n",
              "    }\n",
              "\n",
              "    .dataframe thead th {\n",
              "        text-align: right;\n",
              "    }\n",
              "</style>\n",
              "<table border=\"1\" class=\"dataframe\">\n",
              "  <thead>\n",
              "    <tr style=\"text-align: right;\">\n",
              "      <th></th>\n",
              "      <th>bagOfWords</th>\n",
              "    </tr>\n",
              "  </thead>\n",
              "  <tbody>\n",
              "    <tr>\n",
              "      <th>0</th>\n",
              "      <td>0.0626,0.858,0.7170000000000001,0.216000000000...</td>\n",
              "    </tr>\n",
              "    <tr>\n",
              "      <th>1</th>\n",
              "      <td>0.0198,0.5710000000000001,0.87,0.0564,-3.877,0...</td>\n",
              "    </tr>\n",
              "    <tr>\n",
              "      <th>2</th>\n",
              "      <td>0.44,0.46799999999999997,0.535,0.1009999999999...</td>\n",
              "    </tr>\n",
              "    <tr>\n",
              "      <th>3</th>\n",
              "      <td>0.0743,0.754,0.946,0.401,-2.149,0.865,I Want Y...</td>\n",
              "    </tr>\n",
              "    <tr>\n",
              "      <th>4</th>\n",
              "      <td>0.0479,0.647,0.87,0.0485,-4.702,0.905999999999...</td>\n",
              "    </tr>\n",
              "  </tbody>\n",
              "</table>\n",
              "</div>"
            ],
            "text/plain": [
              "                                          bagOfWords\n",
              "0  0.0626,0.858,0.7170000000000001,0.216000000000...\n",
              "1  0.0198,0.5710000000000001,0.87,0.0564,-3.877,0...\n",
              "2  0.44,0.46799999999999997,0.535,0.1009999999999...\n",
              "3  0.0743,0.754,0.946,0.401,-2.149,0.865,I Want Y...\n",
              "4  0.0479,0.647,0.87,0.0485,-4.702,0.905999999999..."
            ]
          },
          "metadata": {},
          "execution_count": 22
        }
      ]
    },
    {
      "cell_type": "markdown",
      "metadata": {
        "id": "vCNJ3w3-8kvl"
      },
      "source": [
        "# Gensim-word2vec - Treinando o modelo "
      ]
    },
    {
      "cell_type": "markdown",
      "metadata": {
        "id": "qmx8czRf8kvm"
      },
      "source": [
        "Gensim é uma biblioteca python de código aberto para NLP e foi desenvolvida e mantida pelo pesquisador em NLP o tcheco Radim Rehurek e sua empresa RaRe Technologies(disponibilizada em https://radimrehurek.com/gensim/). A biblioteca Gensim nos permitirá desenvolver a incorporação de palavras(embedding) treinando nossos próprios modelos word2vec em um corpus customizado com algoritmos **CBOW** ou **skip-gram**.\n",
        "\n",
        ">A principal diferença entre esses dois métodos é que o **CBOW** usa o contexto para prever uma palavra-alvo, enquanto o **skip-gram** usa uma palavra para prever um contexto-alvo. Geralmente, o método skip-gram pode ter um melhor desempenho em comparação com o método CBOW, pois pode capturar duas semânticas para uma única palavra. Por exemplo, ele terá duas representações vetoriais para a Apple, uma para a empresa e outra para a fruta."
      ]
    },
    {
      "cell_type": "code",
      "metadata": {
        "colab": {
          "base_uri": "https://localhost:8080/"
        },
        "id": "l6_RuVaE8kv5",
        "outputId": "d8df4f7c-cd6d-4a86-decc-7c7d4fb398e7"
      },
      "source": [
        "## Treino do modelo gensim word2vec com nosso próprio corpus personalizado\n",
        "model = Word2Vec(corpus, min_count=1,size= 50,workers=3, window =5, sg = 1)"
      ],
      "execution_count": null,
      "outputs": [
        {
          "output_type": "stream",
          "name": "stderr",
          "text": [
            "WARNING - 14:19:52: consider setting layer size to a multiple of 4 for greater performance\n",
            "INFO - 14:19:52: collecting all words and their counts\n",
            "INFO - 14:19:52: PROGRESS: at sentence #0, processed 0 words, keeping 0 word types\n",
            "INFO - 14:19:52: collected 5803 word types from a corpus of 13993 raw words and 1999 sentences\n",
            "INFO - 14:19:52: Loading a fresh vocabulary\n",
            "INFO - 14:19:52: effective_min_count=1 retains 5803 unique words (100% of original 5803, drops 0)\n",
            "INFO - 14:19:52: effective_min_count=1 leaves 13993 word corpus (100% of original 13993, drops 0)\n",
            "INFO - 14:19:52: deleting the raw counts dictionary of 5803 items\n",
            "INFO - 14:19:52: sample=0.001 downsamples 0 most-common words\n",
            "INFO - 14:19:52: downsampling leaves estimated 13993 word corpus (100.0% of prior 13993)\n",
            "INFO - 14:19:52: estimated required memory for 5803 words and 50 dimensions: 5222700 bytes\n",
            "INFO - 14:19:52: resetting layer weights\n",
            "INFO - 14:19:54: training model with 3 workers on 5803 vocabulary and 50 features, using sg=1 hs=0 sample=0.001 negative=5 window=5\n",
            "INFO - 14:19:54: worker thread finished; awaiting finish of 2 more threads\n",
            "INFO - 14:19:54: worker thread finished; awaiting finish of 1 more threads\n",
            "INFO - 14:19:54: worker thread finished; awaiting finish of 0 more threads\n",
            "INFO - 14:19:54: EPOCH - 1 : training on 13993 raw words (13993 effective words) took 0.1s, 187954 effective words/s\n",
            "INFO - 14:19:54: worker thread finished; awaiting finish of 2 more threads\n",
            "INFO - 14:19:54: worker thread finished; awaiting finish of 1 more threads\n",
            "INFO - 14:19:54: worker thread finished; awaiting finish of 0 more threads\n",
            "INFO - 14:19:54: EPOCH - 2 : training on 13993 raw words (13993 effective words) took 0.1s, 186390 effective words/s\n",
            "INFO - 14:19:54: worker thread finished; awaiting finish of 2 more threads\n",
            "INFO - 14:19:54: worker thread finished; awaiting finish of 1 more threads\n",
            "INFO - 14:19:54: worker thread finished; awaiting finish of 0 more threads\n",
            "INFO - 14:19:54: EPOCH - 3 : training on 13993 raw words (13993 effective words) took 0.1s, 170192 effective words/s\n",
            "INFO - 14:19:54: worker thread finished; awaiting finish of 2 more threads\n",
            "INFO - 14:19:54: worker thread finished; awaiting finish of 1 more threads\n",
            "INFO - 14:19:54: worker thread finished; awaiting finish of 0 more threads\n",
            "INFO - 14:19:54: EPOCH - 4 : training on 13993 raw words (13993 effective words) took 0.1s, 191324 effective words/s\n",
            "INFO - 14:19:54: worker thread finished; awaiting finish of 2 more threads\n",
            "INFO - 14:19:54: worker thread finished; awaiting finish of 1 more threads\n",
            "INFO - 14:19:54: worker thread finished; awaiting finish of 0 more threads\n",
            "INFO - 14:19:54: EPOCH - 5 : training on 13993 raw words (13993 effective words) took 0.1s, 181837 effective words/s\n",
            "INFO - 14:19:54: training on a 69965 raw words (69965 effective words) took 0.4s, 159421 effective words/s\n",
            "WARNING - 14:19:54: under 10 jobs per worker: consider setting a smaller `batch_words' for smoother alpha decay\n"
          ]
        }
      ]
    },
    {
      "cell_type": "markdown",
      "metadata": {
        "id": "93F1PRwl8kv6"
      },
      "source": [
        "os hiperparâmetros deste modelo.\n",
        "1. **size**: o número de dimensões dos embeddings-> o default é 100.\n",
        "2. **window:** A distância máxima entre uma palavra-alvo e palavras ao redor da palavra-alvo-> A janela default é 5.\n",
        "3. **min_count**: A contagem mínima de palavras a considerar ao treinar o modelo; palavras com ocorrência menor que \n",
        "essa contagem serão ignoradas-> O default para min_count é 5.\n",
        "4. **workers**: O número de partições durante o treinamento-> o default é 3.\n",
        "5. **sg**: O algoritmo de treinamento, CBOW (0) ou skip gram (1)-> O algoritmo de treinamento default é CBOW."
      ]
    },
    {
      "cell_type": "code",
      "metadata": {
        "colab": {
          "base_uri": "https://localhost:8080/"
        },
        "id": "7H6DbS9a8kv9",
        "outputId": "7d0c8794-a2fb-40ac-f6b1-389b96700ab5"
      },
      "source": [
        "## já podemos obter o word embedding diretamente do modelo treinado\n",
        "## faremos isso usando como exemplo nossa combinação 'song_title'+'artist' com \n",
        "## song_title= 'Fuego' e 'artist = Alok'\n",
        "## lembrar que nosso model se baseia na nova coluna 'song_artist'\n",
        "model['Fuego Alok']"
      ],
      "execution_count": null,
      "outputs": [
        {
          "output_type": "execute_result",
          "data": {
            "text/plain": [
              "array([ 0.00100139,  0.00921408,  0.00712557,  0.00770206,  0.00777348,\n",
              "        0.00423966,  0.00753714,  0.00482724, -0.0029916 , -0.00799343,\n",
              "        0.00927561,  0.00283966,  0.00519735, -0.00147595,  0.00871221,\n",
              "        0.00530827, -0.00171112,  0.00494412, -0.00702305,  0.00463207,\n",
              "       -0.00873104,  0.00910244,  0.0055209 ,  0.00255634,  0.00356104,\n",
              "        0.00966416, -0.0085489 ,  0.00630951,  0.00586153,  0.00767696,\n",
              "       -0.00899707,  0.00039296,  0.00468563, -0.00836475,  0.00871136,\n",
              "        0.00886916,  0.00472737,  0.00052216,  0.00681192,  0.00210673,\n",
              "        0.00629086, -0.00950661, -0.00571253, -0.00741161, -0.00358597,\n",
              "       -0.00634406,  0.0071514 ,  0.00600511,  0.00648179,  0.00616942],\n",
              "      dtype=float32)"
            ]
          },
          "metadata": {},
          "execution_count": 24
        }
      ]
    },
    {
      "cell_type": "markdown",
      "metadata": {
        "id": "kmPck6s88kv_"
      },
      "source": [
        "# Calcular Similaridades "
      ]
    },
    {
      "cell_type": "markdown",
      "metadata": {
        "id": "OxuYHPL58kwB"
      },
      "source": [
        "Agora podemos até usar Word2vec para calcular a similaridade entre duas músicas no vocabulário invocando o \n",
        "model.similarity () e passando as palavras relevantes. Por exemplo, model.similarity ('Fuego Alok', 'Red Nose Sage The Gemini')\n",
        "Isso nos dará a semelhança euclidiana entre o 'Fuego Alok' e 'Red Nose Sage The Gemini'.\n"
      ]
    },
    {
      "cell_type": "code",
      "metadata": {
        "colab": {
          "base_uri": "https://localhost:8080/"
        },
        "id": "0T-c5G9X8kwC",
        "outputId": "7861cd32-694f-4684-9c00-3f584b40d0ec"
      },
      "source": [
        "model.similarity('Fuego Alok', 'Red Nose Sage The Gemini')"
      ],
      "execution_count": null,
      "outputs": [
        {
          "output_type": "execute_result",
          "data": {
            "text/plain": [
              "0.30194607"
            ]
          },
          "metadata": {},
          "execution_count": 25
        }
      ]
    },
    {
      "cell_type": "code",
      "metadata": {
        "colab": {
          "base_uri": "https://localhost:8080/"
        },
        "id": "AtishcSL8kwD",
        "outputId": "54b7d440-0dd7-462c-c99f-8d1c57ddd38c"
      },
      "source": [
        "model.similarity('Fuego Alok', 'Complicated Avril Lavigne')"
      ],
      "execution_count": null,
      "outputs": [
        {
          "output_type": "execute_result",
          "data": {
            "text/plain": [
              "-0.17617345"
            ]
          },
          "metadata": {},
          "execution_count": 26
        }
      ]
    },
    {
      "cell_type": "code",
      "metadata": {
        "colab": {
          "base_uri": "https://localhost:8080/"
        },
        "id": "Qaztw7h9LIaq",
        "outputId": "01c04608-04d0-4134-8712-338eadb7dcec"
      },
      "source": [
        "model.similarity('Fuego Alok', 'Fantasy Mariah Carey')"
      ],
      "execution_count": null,
      "outputs": [
        {
          "output_type": "execute_result",
          "data": {
            "text/plain": [
              "-0.25173658"
            ]
          },
          "metadata": {},
          "execution_count": 27
        }
      ]
    },
    {
      "cell_type": "markdown",
      "metadata": {
        "id": "VhjFvpxe8kwE"
      },
      "source": [
        "Pelo exemplo acima, podemos dizer que 'Fuego' do artista 'Alok' é mais parecida com 'Red Nose Sage' do artista 'The Gemini' do que com a música 'Complicated' do \n",
        "artista 'Avril Lavigne'. \n",
        "Também podemos usar a função build in model.most_similar () para obter um conjunto das músicas mais semelhantes para \n",
        "uma determinado música.\n"
      ]
    },
    {
      "cell_type": "code",
      "metadata": {
        "colab": {
          "base_uri": "https://localhost:8080/"
        },
        "id": "zGvq-xj_8kwF",
        "outputId": "d37b9dd3-7125-45b9-d3c0-5baf61b9fda3"
      },
      "source": [
        "## mostrando as músicas mais similares a 'Fuego' do artista 'Alok' : usando distancia euclidiana (default) \n",
        "## através do método most_similar.\n",
        "model.most_similar('Fuego Alok')[:5]"
      ],
      "execution_count": null,
      "outputs": [
        {
          "output_type": "stream",
          "name": "stderr",
          "text": [
            "INFO - 14:20:29: precomputing L2-norms of word weight vectors\n"
          ]
        },
        {
          "output_type": "execute_result",
          "data": {
            "text/plain": [
              "[('Forever Chris Brown', 0.49842900037765503),\n",
              " ('Reasons Jillian Jacqueline', 0.4798874855041504),\n",
              " ('Hotline Bling Drake', 0.417658269405365),\n",
              " ('Habit - Dack Janiels & Wenzday Remix Rain Man', 0.4115639328956604),\n",
              " ('-5.115', 0.41115638613700867)]"
            ]
          },
          "metadata": {},
          "execution_count": 28
        }
      ]
    },
    {
      "cell_type": "code",
      "metadata": {
        "id": "VwQoV1euLi1D"
      },
      "source": [
        ""
      ],
      "execution_count": null,
      "outputs": []
    },
    {
      "cell_type": "code",
      "metadata": {
        "colab": {
          "base_uri": "https://localhost:8080/"
        },
        "id": "yPrskfot8kwG",
        "outputId": "c52f31ec-cdb9-4f35-ae54-39fbb423c1e5"
      },
      "source": [
        "## mostrando as músicas mais similares a 'Complicated' do artista 'Avril Lavigne': usando distancia euclidiana (default) \n",
        "## através do método most_similar.\n",
        "model.most_similar('Complicated Avril Lavigne')[:5]"
      ],
      "execution_count": null,
      "outputs": [
        {
          "output_type": "execute_result",
          "data": {
            "text/plain": [
              "[('Evil Friends (feat. Danny Brown) - Jake One Remix Portugal. The Man',\n",
              "  0.530622124671936),\n",
              " ('-6.029', 0.5213207006454468),\n",
              " ('Eyes Closed Halsey', 0.49343711137771606),\n",
              " ('-7.433', 0.4736294746398926),\n",
              " ('First Contact Twin Moons', 0.4530274569988251)]"
            ]
          },
          "metadata": {},
          "execution_count": 29
        }
      ]
    },
    {
      "cell_type": "markdown",
      "metadata": {
        "id": "Oo4MKHm4AzgS"
      },
      "source": [
        "**A diferença entre distância euclidiana e similaridade de cosseno.**\n",
        "\n",
        "![dist_euc_coss.PNG](data:image/png;base64,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)"
      ]
    },
    {
      "cell_type": "markdown",
      "metadata": {
        "id": "zcP4w7BVEMRF"
      },
      "source": [
        "A distância euclidiana mede a distância entre dois pontos:\n",
        "\n",
        "![formula_dist_euclidiana.PNG](data:image/png;base64,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)"
      ]
    },
    {
      "cell_type": "markdown",
      "metadata": {
        "id": "EuPRxU74Dwu4"
      },
      "source": [
        "A similaridade de cosseno mede o ângulo entre os dois vetores:\n",
        "\n",
        "![formula_similaridade_cos.PNG](data:image/png;base64,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)"
      ]
    },
    {
      "cell_type": "markdown",
      "metadata": {
        "id": "WvuRwUyk8kwH"
      },
      "source": [
        "No entanto, a **similaridade por distância euclidiana** pode não funcionar bem para os vetores de palavras de alta dimensão. \n",
        "Isso ocorre porque a similaridade por distância euclidiana aumentará o número de dimensões, mesmo se a palavra incorporada(por embedding) \n",
        "tiver significados diferentes. Alternativamente, podemos usar a **similaridade de cosseno** para medir \n",
        "a similaridade entre dois vetores. Matematicamente, ele mede o cosseno do ângulo entre dois vetores projetados\n",
        "em um espaço multidimensional. Portanto, a **similaridade do cosseno captura o ângulo dos vetores de palavras** \n",
        "e não a magnitude. Sob similaridade de cosseno, nenhuma similaridade é expressa com um ângulo de 90 graus(cos90°= 0), \n",
        "enquanto a similaridade total de 1 está em um ângulo de 0 graus. A função a seguir mostra como podemos gerar \n",
        "a música de maior semelhança com base na similaridade do cosseno."
      ]
    },
    {
      "cell_type": "code",
      "metadata": {
        "id": "3o71iaFK8kwI"
      },
      "source": [
        "def distancia_cosseno (model, word,target_list , num) :\n",
        "    cosine_dict ={}\n",
        "    word_list = []\n",
        "    a = model[word]\n",
        "    for item in target_list :\n",
        "        if item != word :\n",
        "            b = model [item]\n",
        "            cos_sim = dot(a, b)/(norm(a)*norm(b))\n",
        "            cosine_dict[item] = cos_sim\n",
        "    dist_sort=sorted(cosine_dict.items(), key=lambda dist: dist[1],reverse = True) ## in Descedning order \n",
        "    for item in dist_sort:\n",
        "        word_list.append((item[0], item[1]))\n",
        "    return word_list[0:num]"
      ],
      "execution_count": null,
      "outputs": []
    },
    {
      "cell_type": "code",
      "metadata": {
        "colab": {
          "base_uri": "https://localhost:8080/"
        },
        "id": "HDBkjNFw8kwJ",
        "outputId": "e9b15c2c-b04b-4b49-c39f-0db9d3bc5b08"
      },
      "source": [
        "song_artist = list(df.song_artist.unique()) ## only get the unique song_artist\n",
        "## Show the most similar Childs Play Drake by cosine distance \n",
        "distancia_cosseno(model,'Fuego Alok',song_artist,5) "
      ],
      "execution_count": null,
      "outputs": [
        {
          "output_type": "execute_result",
          "data": {
            "text/plain": [
              "[('Forever Chris Brown', 0.498429),\n",
              " ('Reasons Jillian Jacqueline', 0.47988746),\n",
              " ('Hotline Bling Drake', 0.4176583),\n",
              " ('Habit - Dack Janiels & Wenzday Remix Rain Man', 0.4115639),\n",
              " ('Swing Savage', 0.40932038)]"
            ]
          },
          "metadata": {},
          "execution_count": 31
        }
      ]
    },
    {
      "cell_type": "code",
      "metadata": {
        "colab": {
          "base_uri": "https://localhost:8080/"
        },
        "id": "rF4EDmV9R4Wx",
        "outputId": "49b4d267-f892-4d62-a939-269353601609"
      },
      "source": [
        "song_artist = list(df.song_artist.unique()) ## only get the unique song_artist\n",
        "## Show the most similar Childs Play Drake by cosine distance \n",
        "distancia_cosseno(model,'Complicated Avril Lavigne',song_artist,5) "
      ],
      "execution_count": null,
      "outputs": [
        {
          "output_type": "execute_result",
          "data": {
            "text/plain": [
              "[('Evil Friends (feat. Danny Brown) - Jake One Remix Portugal. The Man',\n",
              "  0.5306222),\n",
              " ('Eyes Closed Halsey', 0.49343717),\n",
              " ('First Contact Twin Moons', 0.45302746),\n",
              " ('Fast Car (feat. Kina Grannis) Kina Grannis', 0.4466734),\n",
              " (\"Let's Lovedance Tonight - Danny Krivit Re-edit - Dk Re-Edit Gary's Gang\",\n",
              "  0.4447386)]"
            ]
          },
          "metadata": {},
          "execution_count": 32
        }
      ]
    },
    {
      "cell_type": "code",
      "metadata": {
        "colab": {
          "base_uri": "https://localhost:8080/"
        },
        "id": "BPZmUhokSHJn",
        "outputId": "cacd3358-d4d2-40e5-fbb2-145455ade07a"
      },
      "source": [
        "song_artist = list(df.song_artist.unique()) ## only get the unique song_artist\n",
        "## Show the most similar Childs Play Drake by cosine distance \n",
        "distancia_cosseno(model,'Lucky Britney Spears',song_artist,5) "
      ],
      "execution_count": null,
      "outputs": [
        {
          "output_type": "execute_result",
          "data": {
            "text/plain": [
              "[('Family Table Zac Brown Band', 0.4556036),\n",
              " ('Slow Jam Usher', 0.42752105),\n",
              " ('I Got a Feeling Shit Robot', 0.4256517),\n",
              " (\"When You're Mad Ne-Yo\", 0.40911016),\n",
              " ('Amazing Big Time Rush', 0.4068053)]"
            ]
          },
          "metadata": {},
          "execution_count": 33
        }
      ]
    },
    {
      "cell_type": "markdown",
      "metadata": {
        "id": "gNXjWY7C8kwK"
      },
      "source": [
        "# T-SNE Plot"
      ]
    },
    {
      "cell_type": "markdown",
      "metadata": {
        "id": "JTSDGelz8kwK"
      },
      "source": [
        "É impraticável visualizar o embedding de palavras diretamente, pois geralmente tem mais de 3 dimensões. A modelagem t-SNE é uma ferramenta útil para visualizar dados de alta dimensão reduzindo o espaço dimensional enquanto mantém a distância relativa entre \n",
        "os pares de pontos. Pode-se dizer que t-SNE busca uma nova representação de dados onde as relações de vizinhança \n",
        "sejam preservadas. Usamos aqui o pacote TSNE da biblioteca scikit-learn. Para plotar o gráfico de embedding de palavras usamos T-SNE plot.\n",
        "\n",
        ">O método de Stochastic Neighbor Embedding (t-SNE) com distribuição t é um método de redução de dimensionalidade, utilizado principalmente para visualização de dados em mapas 2D e 3D. Este método pode localizar conexões não lineares nos dados e, portanto, é muito popular.\n"
      ]
    },
    {
      "cell_type": "code",
      "metadata": {
        "id": "Hg9Papp28kwL"
      },
      "source": [
        "def ExibePalavrasProximas(model, word, size):\n",
        "    \n",
        "    arr = np.empty((0,size), dtype='f')\n",
        "    word_labels = [word]\n",
        "\n",
        "    close_words = model.similar_by_word(word)\n",
        "\n",
        "    arr = np.append(arr, np.array([model[word]]), axis=0)\n",
        "    for wrd_score in close_words:\n",
        "        wrd_vector = model[wrd_score[0]]\n",
        "        word_labels.append(wrd_score[0])\n",
        "        arr = np.append(arr, np.array([wrd_vector]), axis=0)\n",
        "        \n",
        "    tsne = TSNE(n_components=2, random_state=0)\n",
        "    np.set_printoptions(suppress=True)\n",
        "    Y = tsne.fit_transform(arr)\n",
        "\n",
        "    x_coords = Y[:, 0]\n",
        "    y_coords = Y[:, 1]\n",
        "    plt.scatter(x_coords, y_coords)\n",
        "\n",
        "    for label, x, y in zip(word_labels, x_coords, y_coords):\n",
        "        plt.annotate(label, xy=(x, y), xytext=(0, 0), textcoords='offset points')\n",
        "    plt.xlim(x_coords.min()+0.00005, x_coords.max()+0.00005)\n",
        "    plt.ylim(y_coords.min()+0.00005, y_coords.max()+0.00005)\n",
        "    plt.show()\n"
      ],
      "execution_count": null,
      "outputs": []
    },
    {
      "cell_type": "code",
      "metadata": {
        "colab": {
          "base_uri": "https://localhost:8080/",
          "height": 273
        },
        "id": "T1OJGBbU8kwN",
        "outputId": "e850e229-b55e-4af0-c3f5-e2499cadbbee"
      },
      "source": [
        "ExibePalavrasProximas(model, 'Maps Maroon 5', 50)"
      ],
      "execution_count": null,
      "outputs": [
        {
          "output_type": "display_data",
          "data": {
            "image/png": "[encoded data removed]",
            "text/plain": [
              "<Figure size 432x288 with 1 Axes>"
            ]
          },
          "metadata": {
            "needs_background": "light"
          }
        }
      ]
    },
    {
      "cell_type": "code",
      "metadata": {
        "colab": {
          "base_uri": "https://localhost:8080/",
          "height": 273
        },
        "id": "dewvmcN0TEkH",
        "outputId": "b67ac87f-acfa-412e-fea0-e6ad778e0b25"
      },
      "source": [
        "ExibePalavrasProximas(model, 'Fuego Alok', 50)"
      ],
      "execution_count": null,
      "outputs": [
        {
          "output_type": "display_data",
          "data": {
            "image/png": "[encoded data removed]",
            "text/plain": [
              "<Figure size 432x288 with 1 Axes>"
            ]
          },
          "metadata": {
            "needs_background": "light"
          }
        }
      ]
    },
    {
      "cell_type": "code",
      "metadata": {
        "colab": {
          "base_uri": "https://localhost:8080/",
          "height": 273
        },
        "id": "mxqB0K9DgVT-",
        "outputId": "f6602559-5554-4afa-88d4-ebbff8bb6de5"
      },
      "source": [
        "ExibePalavrasProximas(model, 'Lucky Britney Spears', 50)"
      ],
      "execution_count": null,
      "outputs": [
        {
          "output_type": "display_data",
          "data": {
            "image/png": "[encoded data removed]",
            "text/plain": [
              "<Figure size 432x288 with 1 Axes>"
            ]
          },
          "metadata": {
            "needs_background": "light"
          }
        }
      ]
    }
  ]
}