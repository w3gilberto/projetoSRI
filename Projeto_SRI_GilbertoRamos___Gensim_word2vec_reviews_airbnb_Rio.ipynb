{
  "nbformat": 4,
  "nbformat_minor": 0,
  "metadata": {
    "kernelspec": {
      "display_name": "Python 3",
      "language": "python",
      "name": "python3"
    },
    "language_info": {
      "codemirror_mode": {
        "name": "ipython",
        "version": 3
      },
      "file_extension": ".py",
      "mimetype": "text/x-python",
      "name": "python",
      "nbconvert_exporter": "python",
      "pygments_lexer": "ipython3",
      "version": "3.6.7"
    },
    "colab": {
      "name": "Projeto_SRI_GilbertoRamos___Gensim_word2vec_reviews_airbnb_Rio.ipynb",
      "provenance": [],
      "collapsed_sections": [],
      "include_colab_link": true
    }
  },
  "cells": [
    {
      "cell_type": "markdown",
      "metadata": {
        "id": "view-in-github",
        "colab_type": "text"
      },
      "source": [
        "<a href=\"https://colab.research.google.com/github/w3gilberto/projetoSRI/blob/main/Projeto_SRI_GilbertoRamos___Gensim_word2vec_reviews_airbnb_Rio.ipynb\" target=\"_parent\"><img src=\"https://colab.research.google.com/assets/colab-badge.svg\" alt=\"Open In Colab\"/></a>"
      ]
    },
    {
      "cell_type": "markdown",
      "metadata": {
        "id": "7KBTlpMZ5qyG"
      },
      "source": [
        "Projeto da Disciplina SRI - Prof Flávio Codeço Coelho - Aluno: Gilberto Ramos - 30.11.2021\n",
        "## Análise textual e de similaridades de palavras em avaliações de hóspedes no airbnb usando Gensim-Word2vec e SpaCy.\n",
        "\n"
      ]
    },
    {
      "cell_type": "code",
      "metadata": {
        "id": "mnHK-esY8ku-",
        "colab": {
          "base_uri": "https://localhost:8080/"
        },
        "outputId": "8c6d4639-9abd-429f-d75e-9d8fd9a06109"
      },
      "source": [
        "import pandas as pd\n",
        "pd.options.mode.chained_assignment = None\n",
        "import matplotlib.pyplot as plt\n",
        "%matplotlib notebook\n",
        "import numpy as np\n",
        "import seaborn as sns\n",
        "import warnings\n",
        "warnings.filterwarnings('ignore')\n",
        "import re  # For preprocessing\n",
        "import pandas as pd  # For data handling\n",
        "from time import time  # To time our operations\n",
        "from collections import defaultdict  # For word frequency\n",
        "\n",
        "import spacy  # For preprocessing\n",
        "from gensim.models import Word2Vec\n",
        "import logging  # Setting up the loggings to monitor gensim\n",
        "logging.basicConfig(format=\"%(levelname)s - %(asctime)s: %(message)s\", datefmt= '%H:%M:%S', level=logging.INFO)\n",
        "from sklearn.manifold import TSNE\n",
        "from numpy import dot\n",
        "from numpy.linalg import norm\n",
        "#from gensim.models.tfidfmodel import TfidfModel\n",
        "import nltk\n",
        "nltk.download('stopwords')\n",
        "import spacy.cli \n",
        "spacy.cli.download(\"pt_core_news_sm\")"
      ],
      "execution_count": 2,
      "outputs": [
        {
          "output_type": "stream",
          "name": "stdout",
          "text": [
            "[nltk_data] Downloading package stopwords to /root/nltk_data...\n",
            "[nltk_data]   Package stopwords is already up-to-date!\n",
            "\u001b[38;5;2m✔ Download and installation successful\u001b[0m\n",
            "You can now load the model via spacy.load('pt_core_news_sm')\n"
          ]
        }
      ]
    },
    {
      "cell_type": "markdown",
      "metadata": {
        "id": "64gFVVGd8kvF"
      },
      "source": [
        "# Fonte do Dataset Airbnb Rio de Janeiro - reviews de 2010 a 2021"
      ]
    },
    {
      "cell_type": "markdown",
      "metadata": {
        "id": "gnt5pnIp8kvO"
      },
      "source": [
        "fonte do Dataset: Kaggle \n",
        "https://www.kaggle.com/vabatista/airbnb-rio-de-janeiro?select=reviews.csv\n"
      ]
    },
    {
      "cell_type": "code",
      "metadata": {
        "colab": {
          "resources": {
            "http://localhost:8080/nbextensions/google.colab/files.js": {
              "data": "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",
              "ok": true,
              "headers": [
                [
                  "content-type",
                  "application/javascript"
                ]
              ],
              "status": 200,
              "status_text": ""
            }
          },
          "base_uri": "https://localhost:8080/",
          "height": 73
        },
        "id": "79LjxgTsoEUi",
        "outputId": "5db31b54-59ca-47df-9ab5-c4224babd7f5"
      },
      "source": [
        "from google.colab import files \n",
        "uploaded = files.upload()\n",
        "df = pd.read_csv('reviews_airbnb_Rio_.csv')\n",
        "\n"
      ],
      "execution_count": 5,
      "outputs": [
        {
          "output_type": "display_data",
          "data": {
            "text/html": [
              "\n",
              "     <input type=\"file\" id=\"files-777dd2d1-776a-4879-aec9-c9c7e4149743\" name=\"files[]\" multiple disabled\n",
              "        style=\"border:none\" />\n",
              "     <output id=\"result-777dd2d1-776a-4879-aec9-c9c7e4149743\">\n",
              "      Upload widget is only available when the cell has been executed in the\n",
              "      current browser session. Please rerun this cell to enable.\n",
              "      </output>\n",
              "      <script src=\"/nbextensions/google.colab/files.js\"></script> "
            ],
            "text/plain": [
              "<IPython.core.display.HTML object>"
            ]
          },
          "metadata": {}
        },
        {
          "output_type": "stream",
          "name": "stdout",
          "text": [
            "Saving reviews_airbnb_Rio_.csv to reviews_airbnb_Rio_.csv\n"
          ]
        }
      ]
    },
    {
      "cell_type": "code",
      "metadata": {
        "colab": {
          "base_uri": "https://localhost:8080/",
          "height": 423
        },
        "id": "99mmjjhZLZC6",
        "outputId": "a9a50566-e24c-41a0-e3d4-7fdac84acc72"
      },
      "source": [
        "df.head(100)"
      ],
      "execution_count": 6,
      "outputs": [
        {
          "output_type": "execute_result",
          "data": {
            "text/html": [
              "<div>\n",
              "<style scoped>\n",
              "    .dataframe tbody tr th:only-of-type {\n",
              "        vertical-align: middle;\n",
              "    }\n",
              "\n",
              "    .dataframe tbody tr th {\n",
              "        vertical-align: top;\n",
              "    }\n",
              "\n",
              "    .dataframe thead th {\n",
              "        text-align: right;\n",
              "    }\n",
              "</style>\n",
              "<table border=\"1\" class=\"dataframe\">\n",
              "  <thead>\n",
              "    <tr style=\"text-align: right;\">\n",
              "      <th></th>\n",
              "      <th>listing_id</th>\n",
              "      <th>id</th>\n",
              "      <th>date</th>\n",
              "      <th>reviewer_id</th>\n",
              "      <th>reviewer_name</th>\n",
              "      <th>comments</th>\n",
              "    </tr>\n",
              "  </thead>\n",
              "  <tbody>\n",
              "    <tr>\n",
              "      <th>0</th>\n",
              "      <td>17878</td>\n",
              "      <td>64852</td>\n",
              "      <td>2010-07-15</td>\n",
              "      <td>135370</td>\n",
              "      <td>Tia</td>\n",
              "      <td>This apartment is in a perfect location -- two...</td>\n",
              "    </tr>\n",
              "    <tr>\n",
              "      <th>1</th>\n",
              "      <td>17878</td>\n",
              "      <td>76744</td>\n",
              "      <td>2010-08-11</td>\n",
              "      <td>10206</td>\n",
              "      <td>Mimi</td>\n",
              "      <td>we had a really great experience staying in Ma...</td>\n",
              "    </tr>\n",
              "    <tr>\n",
              "      <th>2</th>\n",
              "      <td>17878</td>\n",
              "      <td>91074</td>\n",
              "      <td>2010-09-06</td>\n",
              "      <td>80253</td>\n",
              "      <td>Jan</td>\n",
              "      <td>Staying in Max appartment is like living in a ...</td>\n",
              "    </tr>\n",
              "    <tr>\n",
              "      <th>3</th>\n",
              "      <td>17878</td>\n",
              "      <td>137528</td>\n",
              "      <td>2010-11-12</td>\n",
              "      <td>230449</td>\n",
              "      <td>Orene</td>\n",
              "      <td>In general very good and reasonable price.\\r\\n...</td>\n",
              "    </tr>\n",
              "    <tr>\n",
              "      <th>4</th>\n",
              "      <td>17878</td>\n",
              "      <td>147594</td>\n",
              "      <td>2010-12-01</td>\n",
              "      <td>219338</td>\n",
              "      <td>David</td>\n",
              "      <td>The apt was nice and in a great location only ...</td>\n",
              "    </tr>\n",
              "    <tr>\n",
              "      <th>...</th>\n",
              "      <td>...</td>\n",
              "      <td>...</td>\n",
              "      <td>...</td>\n",
              "      <td>...</td>\n",
              "      <td>...</td>\n",
              "      <td>...</td>\n",
              "    </tr>\n",
              "    <tr>\n",
              "      <th>95</th>\n",
              "      <td>17878</td>\n",
              "      <td>12909299</td>\n",
              "      <td>2014-05-13</td>\n",
              "      <td>11104956</td>\n",
              "      <td>Grant</td>\n",
              "      <td>If you are staying in Copacabana and want grea...</td>\n",
              "    </tr>\n",
              "    <tr>\n",
              "      <th>96</th>\n",
              "      <td>17878</td>\n",
              "      <td>14110065</td>\n",
              "      <td>2014-06-12</td>\n",
              "      <td>11057119</td>\n",
              "      <td>Lucie</td>\n",
              "      <td>Everything perfect. The apartment is very nice...</td>\n",
              "    </tr>\n",
              "    <tr>\n",
              "      <th>97</th>\n",
              "      <td>17878</td>\n",
              "      <td>14767662</td>\n",
              "      <td>2014-06-26</td>\n",
              "      <td>5133473</td>\n",
              "      <td>Andrew</td>\n",
              "      <td>My friends and I all enjoyed our time at Max's...</td>\n",
              "    </tr>\n",
              "    <tr>\n",
              "      <th>98</th>\n",
              "      <td>17878</td>\n",
              "      <td>16657506</td>\n",
              "      <td>2014-07-31</td>\n",
              "      <td>15582950</td>\n",
              "      <td>Fabiano</td>\n",
              "      <td>Tudo correu muito bem! O apartamento é muito b...</td>\n",
              "    </tr>\n",
              "    <tr>\n",
              "      <th>99</th>\n",
              "      <td>17878</td>\n",
              "      <td>17931491</td>\n",
              "      <td>2014-08-19</td>\n",
              "      <td>15766567</td>\n",
              "      <td>Kenan</td>\n",
              "      <td>L'appartement est très fonctionnel, un équipem...</td>\n",
              "    </tr>\n",
              "  </tbody>\n",
              "</table>\n",
              "<p>100 rows × 6 columns</p>\n",
              "</div>"
            ],
            "text/plain": [
              "    listing_id  ...                                           comments\n",
              "0        17878  ...  This apartment is in a perfect location -- two...\n",
              "1        17878  ...  we had a really great experience staying in Ma...\n",
              "2        17878  ...  Staying in Max appartment is like living in a ...\n",
              "3        17878  ...  In general very good and reasonable price.\\r\\n...\n",
              "4        17878  ...  The apt was nice and in a great location only ...\n",
              "..         ...  ...                                                ...\n",
              "95       17878  ...  If you are staying in Copacabana and want grea...\n",
              "96       17878  ...  Everything perfect. The apartment is very nice...\n",
              "97       17878  ...  My friends and I all enjoyed our time at Max's...\n",
              "98       17878  ...  Tudo correu muito bem! O apartamento é muito b...\n",
              "99       17878  ...  L'appartement est très fonctionnel, un équipem...\n",
              "\n",
              "[100 rows x 6 columns]"
            ]
          },
          "metadata": {},
          "execution_count": 6
        }
      ]
    },
    {
      "cell_type": "code",
      "metadata": {
        "colab": {
          "base_uri": "https://localhost:8080/"
        },
        "id": "ltDOcxqhwDxO",
        "outputId": "a6fad7b4-4a4c-4504-d405-7e81a07ae312"
      },
      "source": [
        "df.info()"
      ],
      "execution_count": 7,
      "outputs": [
        {
          "output_type": "stream",
          "name": "stdout",
          "text": [
            "<class 'pandas.core.frame.DataFrame'>\n",
            "RangeIndex: 16131 entries, 0 to 16130\n",
            "Data columns (total 6 columns):\n",
            " #   Column         Non-Null Count  Dtype \n",
            "---  ------         --------------  ----- \n",
            " 0   listing_id     16131 non-null  int64 \n",
            " 1   id             16131 non-null  int64 \n",
            " 2   date           16131 non-null  object\n",
            " 3   reviewer_id    16131 non-null  int64 \n",
            " 4   reviewer_name  16131 non-null  object\n",
            " 5   comments       16129 non-null  object\n",
            "dtypes: int64(3), object(3)\n",
            "memory usage: 756.3+ KB\n"
          ]
        }
      ]
    },
    {
      "cell_type": "code",
      "metadata": {
        "colab": {
          "base_uri": "https://localhost:8080/"
        },
        "id": "YlIDMIpNyD6Y",
        "outputId": "9825069c-bd87-4cac-964a-1a2fd54ae818"
      },
      "source": [
        "df.shape"
      ],
      "execution_count": 8,
      "outputs": [
        {
          "output_type": "execute_result",
          "data": {
            "text/plain": [
              "(16131, 6)"
            ]
          },
          "metadata": {},
          "execution_count": 8
        }
      ]
    },
    {
      "cell_type": "code",
      "metadata": {
        "colab": {
          "base_uri": "https://localhost:8080/"
        },
        "id": "wwQq1TEPGG8a",
        "outputId": "e11ee699-c497-493e-91c9-ad4781dce59e"
      },
      "source": [
        "df.isna().sum()"
      ],
      "execution_count": 9,
      "outputs": [
        {
          "output_type": "execute_result",
          "data": {
            "text/plain": [
              "listing_id       0\n",
              "id               0\n",
              "date             0\n",
              "reviewer_id      0\n",
              "reviewer_name    0\n",
              "comments         2\n",
              "dtype: int64"
            ]
          },
          "metadata": {},
          "execution_count": 9
        }
      ]
    },
    {
      "cell_type": "markdown",
      "metadata": {
        "id": "LYKUmOKH8kvX"
      },
      "source": [
        "**Pré-processamento**"
      ]
    },
    {
      "cell_type": "code",
      "metadata": {
        "id": "QizTT71_i-xX"
      },
      "source": [
        "dummy_data = df[['date','reviewer_name','comments']]"
      ],
      "execution_count": 11,
      "outputs": []
    },
    {
      "cell_type": "markdown",
      "metadata": {
        "id": "dR8K2jccHzA0"
      },
      "source": [
        "vamos combinar 'text' = 'reviewer_name' e 'comments'"
      ]
    },
    {
      "cell_type": "code",
      "metadata": {
        "colab": {
          "base_uri": "https://localhost:8080/",
          "height": 223
        },
        "id": "83PsPPojiXmS",
        "outputId": "adf120b7-306b-4217-e39d-9bcc585ae7a8"
      },
      "source": [
        "dummy_data['text'] = dummy_data['reviewer_name'] + ' ' + dummy_data['comments']\n",
        "dummy_data = dummy_data.drop(['reviewer_name', 'comments'], axis=1)\n",
        "dummy_data.head()"
      ],
      "execution_count": 12,
      "outputs": [
        {
          "output_type": "stream",
          "name": "stderr",
          "text": [
            "INFO - 12:56:24: NumExpr defaulting to 2 threads.\n"
          ]
        },
        {
          "output_type": "execute_result",
          "data": {
            "text/html": [
              "<div>\n",
              "<style scoped>\n",
              "    .dataframe tbody tr th:only-of-type {\n",
              "        vertical-align: middle;\n",
              "    }\n",
              "\n",
              "    .dataframe tbody tr th {\n",
              "        vertical-align: top;\n",
              "    }\n",
              "\n",
              "    .dataframe thead th {\n",
              "        text-align: right;\n",
              "    }\n",
              "</style>\n",
              "<table border=\"1\" class=\"dataframe\">\n",
              "  <thead>\n",
              "    <tr style=\"text-align: right;\">\n",
              "      <th></th>\n",
              "      <th>date</th>\n",
              "      <th>text</th>\n",
              "    </tr>\n",
              "  </thead>\n",
              "  <tbody>\n",
              "    <tr>\n",
              "      <th>0</th>\n",
              "      <td>2010-07-15</td>\n",
              "      <td>Tia This apartment is in a perfect location --...</td>\n",
              "    </tr>\n",
              "    <tr>\n",
              "      <th>1</th>\n",
              "      <td>2010-08-11</td>\n",
              "      <td>Mimi we had a really great experience staying ...</td>\n",
              "    </tr>\n",
              "    <tr>\n",
              "      <th>2</th>\n",
              "      <td>2010-09-06</td>\n",
              "      <td>Jan Staying in Max appartment is like living i...</td>\n",
              "    </tr>\n",
              "    <tr>\n",
              "      <th>3</th>\n",
              "      <td>2010-11-12</td>\n",
              "      <td>Orene In general very good and reasonable pric...</td>\n",
              "    </tr>\n",
              "    <tr>\n",
              "      <th>4</th>\n",
              "      <td>2010-12-01</td>\n",
              "      <td>David The apt was nice and in a great location...</td>\n",
              "    </tr>\n",
              "  </tbody>\n",
              "</table>\n",
              "</div>"
            ],
            "text/plain": [
              "         date                                               text\n",
              "0  2010-07-15  Tia This apartment is in a perfect location --...\n",
              "1  2010-08-11  Mimi we had a really great experience staying ...\n",
              "2  2010-09-06  Jan Staying in Max appartment is like living i...\n",
              "3  2010-11-12  Orene In general very good and reasonable pric...\n",
              "4  2010-12-01  David The apt was nice and in a great location..."
            ]
          },
          "metadata": {},
          "execution_count": 12
        }
      ]
    },
    {
      "cell_type": "markdown",
      "metadata": {
        "id": "mPiHyqLZlgQZ"
      },
      "source": [
        "**limpeza do texto**\n",
        "\n",
        "Estamos lematizando e removendo as palavras irrelevantes e os caracteres não alfabéticos de cada linha.\n",
        "\n",
        "Para este propósito, estamos usando SpaCy e seu pipeline integrado."
      ]
    },
    {
      "cell_type": "code",
      "metadata": {
        "id": "XGkfBKQFln8W"
      },
      "source": [
        "nlp = spacy.load(\"pt_core_news_sm\", disable=['ner', 'parser']) # disabling Named Entity Recognition for speed\n",
        "\n",
        "def cleaning(doc):\n",
        "    #remove stopwords + Lemmatize them \n",
        "    txt = [token.lemma_ for token in doc if not token.is_stop]\n",
        "    \n",
        "    # word2vec uses context words to learn the vector representation of a terget word \n",
        "    # if sentence is only one or two worlds long,\n",
        "    # the benifit for training them is small thus we may drop them \n",
        "    if len(txt)>2:\n",
        "        return ' '.join(txt)"
      ],
      "execution_count": 13,
      "outputs": []
    },
    {
      "cell_type": "markdown",
      "metadata": {
        "id": "FU4-OdEJnKcL"
      },
      "source": [
        "**Removendo caracteres diferentes de caracteres alfanuméricos**"
      ]
    },
    {
      "cell_type": "code",
      "metadata": {
        "id": "3fcakL4TnQYU"
      },
      "source": [
        "init_cleaning = (re.sub(\"[^A-Za-z]+\",' ',str(row)).lower() for row in dummy_data['text'])"
      ],
      "execution_count": 14,
      "outputs": []
    },
    {
      "cell_type": "markdown",
      "metadata": {
        "id": "eoQe1sAgnbTM"
      },
      "source": [
        "**Aproveitando o atributo spaCy .pipe () para acelerar o processo de limpeza:**"
      ]
    },
    {
      "cell_type": "code",
      "metadata": {
        "colab": {
          "base_uri": "https://localhost:8080/"
        },
        "id": "4WAtCBlZngt0",
        "outputId": "6cc097e3-ca33-4eff-cae7-6e622905a35a"
      },
      "source": [
        "t = time()\n",
        "\n",
        "#tamanho do batch usado: se um documento tiver mais de 1.000 palavras, tratá-lo como um documento separado\n",
        "txt = [cleaning(doc) for doc in nlp.pipe(init_cleaning,batch_size=1000,n_threads=-1)]\n",
        "\n",
        "print('Time too clean up everything: {} mins'.format(round((time() - t)/60,2)))"
      ],
      "execution_count": 15,
      "outputs": [
        {
          "output_type": "stream",
          "name": "stdout",
          "text": [
            "Time too clean up everything: 1.46 mins\n"
          ]
        }
      ]
    },
    {
      "cell_type": "markdown",
      "metadata": {
        "id": "pWHLm15CnzYC"
      },
      "source": [
        "**dados limpos:**\n",
        "\n",
        "Agora que limpamos os dados, vamos armazená-los em um novo dataframe e eliminar quaisquer valores nulos / ausentes ou duplicatas"
      ]
    },
    {
      "cell_type": "code",
      "metadata": {
        "colab": {
          "base_uri": "https://localhost:8080/"
        },
        "id": "QvMPHbkdoBz2",
        "outputId": "2d423d3a-8943-465c-8f11-850abe6a5452"
      },
      "source": [
        "df_clean = pd.DataFrame({'clean':txt})\n",
        "df_clean = df_clean.dropna().drop_duplicates()\n",
        "df_clean.shape"
      ],
      "execution_count": 16,
      "outputs": [
        {
          "output_type": "execute_result",
          "data": {
            "text/plain": [
              "(15953, 1)"
            ]
          },
          "metadata": {},
          "execution_count": 16
        }
      ]
    },
    {
      "cell_type": "markdown",
      "metadata": {
        "id": "CWdSxblzoMnN"
      },
      "source": [
        "**Bigramas**\n",
        "\n",
        "Estamos usando o pacote Gensim Phrases para detectar automaticamente frases comuns (bigramas) de uma lista de frases/sentenças."
      ]
    },
    {
      "cell_type": "code",
      "metadata": {
        "id": "nWy5mgIVpGYi"
      },
      "source": [
        "from gensim.models.phrases import Phrases,Phraser"
      ],
      "execution_count": 17,
      "outputs": []
    },
    {
      "cell_type": "markdown",
      "metadata": {
        "id": "9D_bbAC9pK2s"
      },
      "source": [
        "Phrases() recebe uma lista de lista de palavras como entrada"
      ]
    },
    {
      "cell_type": "code",
      "metadata": {
        "id": "_jRoI8b9pOjo"
      },
      "source": [
        "sent = [row.split() for row in df_clean['clean']]"
      ],
      "execution_count": 18,
      "outputs": []
    },
    {
      "cell_type": "markdown",
      "metadata": {
        "id": "3CmWA4hfpU5t"
      },
      "source": [
        "Cria as frases/sentenças relevantes da lista de frases/sentenças:"
      ]
    },
    {
      "cell_type": "code",
      "metadata": {
        "colab": {
          "base_uri": "https://localhost:8080/"
        },
        "id": "9PaFvG2XpW09",
        "outputId": "2346e627-bc3c-48c2-e951-3e3acbb367af"
      },
      "source": [
        "phrases = Phrases(sent,min_count=30, progress_per=10000)"
      ],
      "execution_count": 19,
      "outputs": [
        {
          "output_type": "stream",
          "name": "stderr",
          "text": [
            "INFO - 12:59:07: collecting all words and their counts\n",
            "INFO - 12:59:07: PROGRESS: at sentence #0, processed 0 words and 0 word types\n",
            "INFO - 12:59:08: PROGRESS: at sentence #10000, processed 566023 words and 199663 word types\n",
            "INFO - 12:59:09: collected 278406 word types from a corpus of 900357 words (unigram + bigrams) and 15953 sentences\n",
            "INFO - 12:59:09: using 278406 counts as vocab in Phrases<0 vocab, min_count=30, threshold=10.0, max_vocab_size=40000000>\n"
          ]
        }
      ]
    },
    {
      "cell_type": "markdown",
      "metadata": {
        "id": "ckWEV4dFpbN2"
      },
      "source": [
        "O objetivo de **Phraser** () é reduzir o consumo de memória de *Phrases* (), descartando o estado do modelo não estritamente necessário para a tarefa de detecção de bigrama:"
      ]
    },
    {
      "cell_type": "code",
      "metadata": {
        "colab": {
          "base_uri": "https://localhost:8080/"
        },
        "id": "AB_A2Wwopmxs",
        "outputId": "82a6dd36-b538-4d4b-f898-f0cb5888deec"
      },
      "source": [
        "bigram = Phraser(phrases)"
      ],
      "execution_count": 20,
      "outputs": [
        {
          "output_type": "stream",
          "name": "stderr",
          "text": [
            "INFO - 12:59:19: source_vocab length 278406\n",
            "INFO - 12:59:22: Phraser built with 571 phrasegrams\n"
          ]
        }
      ]
    },
    {
      "cell_type": "markdown",
      "metadata": {
        "id": "c8cHJM4gpssp"
      },
      "source": [
        "Transforme o corpus com base nos bigramas detectados:"
      ]
    },
    {
      "cell_type": "code",
      "metadata": {
        "id": "ukooBQrUpvcG"
      },
      "source": [
        "sentences = bigram[sent]"
      ],
      "execution_count": 21,
      "outputs": []
    },
    {
      "cell_type": "markdown",
      "metadata": {
        "id": "BSn_FIdNp2vh"
      },
      "source": [
        "**Palavras mais frequentes:**\n",
        "\n",
        "Principalmente uma verificação de integridade da eficácia da ***lematização***, remoção de palavras irrelevantes e adição de bigramas."
      ]
    },
    {
      "cell_type": "code",
      "metadata": {
        "colab": {
          "base_uri": "https://localhost:8080/"
        },
        "id": "yiA4IBHxp9Fi",
        "outputId": "5353a3fd-faa3-46f4-c512-0c325e2776b6"
      },
      "source": [
        "word_freq = defaultdict(int)\n",
        "for sent in sentences:\n",
        "    for i in sent:\n",
        "        word_freq[i] += 1\n",
        "len(word_freq)"
      ],
      "execution_count": 22,
      "outputs": [
        {
          "output_type": "execute_result",
          "data": {
            "text/plain": [
              "29107"
            ]
          },
          "metadata": {},
          "execution_count": 22
        }
      ]
    },
    {
      "cell_type": "code",
      "metadata": {
        "colab": {
          "base_uri": "https://localhost:8080/"
        },
        "id": "YcsvbPc3qEMd",
        "outputId": "2b962b39-df40-4bf7-c602-49d21ef44a01"
      },
      "source": [
        "sorted(word_freq, key=word_freq.get, reverse=True)[:10]"
      ],
      "execution_count": 23,
      "outputs": [
        {
          "output_type": "execute_result",
          "data": {
            "text/plain": [
              "['o', 'the', 'and', 'to', 'is', 'in', 'was', 'e', 'apartment', 'ir']"
            ]
          },
          "metadata": {},
          "execution_count": 23
        }
      ]
    },
    {
      "cell_type": "markdown",
      "metadata": {
        "id": "GeURQ7-2qJuA"
      },
      "source": [
        "**Treinando o modelo**\n",
        "\n",
        "Usamos a implementação Gensim de word2vec:"
      ]
    },
    {
      "cell_type": "code",
      "metadata": {
        "id": "EzSvVRYzqRQC"
      },
      "source": [
        "import multiprocessing\n",
        "from gensim.models import Word2Vec"
      ],
      "execution_count": 24,
      "outputs": []
    },
    {
      "cell_type": "markdown",
      "metadata": {
        "id": "apb9Y1lkqqeB"
      },
      "source": [
        "** Modelo em 3 etapas: **\n",
        "\n",
        "**Word2Vec ():**\n",
        "Nesta primeira etapa, configurei os parâmetros do modelo um por um.\n",
        "Eu não forneço as sentenças-parâmetro e, portanto, deixo o modelo não inicializado, propositalmente.\n",
        "\n",
        "**build_vocab ():**\n",
        "Aqui, ele constrói o vocabulário a partir de uma sequência de frases e, assim, inicializa o modelo.\n",
        "Com os registros, posso acompanhar o progresso e, ainda mais importante, o efeito de min_count e sample no corpus de palavras.\n",
        "\n",
        "**Comboio():**\n",
        "Por fim, treina o modelo.\n",
        "Os registros aqui são principalmente úteis para monitoramento, certificando-se de que nenhum encadeamento seja executado instantaneamente."
      ]
    },
    {
      "cell_type": "code",
      "metadata": {
        "id": "h47tbAEk_DHu"
      },
      "source": [
        "#Conte o número de núcleos(cores) em uma máquina\n",
        "cores = multiprocessing.cpu_count() "
      ],
      "execution_count": 25,
      "outputs": []
    },
    {
      "cell_type": "markdown",
      "metadata": {
        "id": "s7__VZ2y_JPP"
      },
      "source": [
        "**Os parametros :**\n",
        "\n",
        "**min_count** = int - Ignora todas as palavras com frequência absoluta total inferior a esta - (2, 100)\n",
        "\n",
        "**window** = int - A distância máxima entre a palavra atual e a prevista em uma frase. Por exemplo. palavras da janela à esquerda e palavras da janela à direita do nosso alvo - (2, 10)\n",
        "\n",
        "**size** = int - Dimensionalidade dos vetores de recursos. - (50, 300) \n",
        "\n",
        "**negativo** = int - Se> 0, a amostragem negativa será usada, o int para negativo especifica quantas \"palavras de ruído\" devem ser eliminadas. Se definido como 0, nenhuma amostra negativa é usada. - (5, 20)\n",
        "\n",
        "**workers** = int - threads de trabalho para treinar o modelo (= treinamento mais rápido com máquinas multicore)"
      ]
    },
    {
      "cell_type": "code",
      "metadata": {
        "id": "YPbQE114_ahh"
      },
      "source": [
        "w2v_model = Word2Vec(min_count=20,\n",
        "                     window=2,\n",
        "                     size=300,\n",
        "                     sample=6e-5, \n",
        "                     alpha=0.03, \n",
        "                     min_alpha=0.0007, \n",
        "                     negative=20,\n",
        "                     workers=cores-1)"
      ],
      "execution_count": 26,
      "outputs": []
    },
    {
      "cell_type": "markdown",
      "metadata": {
        "id": "1_vdrZNC_jBH"
      },
      "source": [
        "**Construindo a Tabela de Vocabulário:**\n",
        "\n",
        "O Word2Vec exige que construamos a tabela de vocabulário (simplesmente digerindo todas as palavras e filtrando as palavras únicas e fazendo algumas contagens básicas com elas):"
      ]
    },
    {
      "cell_type": "code",
      "metadata": {
        "colab": {
          "base_uri": "https://localhost:8080/"
        },
        "id": "Rw3cDmH9_q50",
        "outputId": "59ab0774-518c-449b-f588-3df5027055b8"
      },
      "source": [
        "t = time()\n",
        "\n",
        "w2v_model.build_vocab(sentences, progress_per=10000)\n",
        "\n",
        "print('Time to build vocab: {} mins'.format(round((time() - t) / 60, 2)))"
      ],
      "execution_count": 27,
      "outputs": [
        {
          "output_type": "stream",
          "name": "stderr",
          "text": [
            "INFO - 13:03:32: collecting all words and their counts\n",
            "INFO - 13:03:32: PROGRESS: at sentence #0, processed 0 words, keeping 0 word types\n",
            "INFO - 13:03:34: PROGRESS: at sentence #10000, processed 521903 words, keeping 23213 word types\n",
            "INFO - 13:03:35: collected 29107 word types from a corpus of 829390 raw words and 15953 sentences\n",
            "INFO - 13:03:35: Loading a fresh vocabulary\n",
            "INFO - 13:03:35: effective_min_count=20 retains 3741 unique words (12% of original 29107, drops 25366)\n",
            "INFO - 13:03:35: effective_min_count=20 leaves 755330 word corpus (91% of original 829390, drops 74060)\n",
            "INFO - 13:03:35: deleting the raw counts dictionary of 29107 items\n",
            "INFO - 13:03:35: sample=6e-05 downsamples 949 most-common words\n",
            "INFO - 13:03:35: downsampling leaves estimated 307571 word corpus (40.7% of prior 755330)\n",
            "INFO - 13:03:35: estimated required memory for 3741 words and 300 dimensions: 10848900 bytes\n",
            "INFO - 13:03:35: resetting layer weights\n"
          ]
        },
        {
          "output_type": "stream",
          "name": "stdout",
          "text": [
            "Time to build vocab: 0.06 mins\n"
          ]
        }
      ]
    },
    {
      "cell_type": "markdown",
      "metadata": {
        "id": "36aglIuf_yC8"
      },
      "source": [
        "**Treinamento do modelo:**\n",
        "\n",
        "Parâmetros do treinamento:\n",
        "\n",
        "total_examples = int - Contagem de sentenças;\n",
        "\n",
        "epochs = int - Número de iterações (epochs) no corpus - [10, 20, 30]"
      ]
    },
    {
      "cell_type": "code",
      "metadata": {
        "colab": {
          "base_uri": "https://localhost:8080/"
        },
        "id": "n2REt6v8__3F",
        "outputId": "7e3079bc-a510-4691-aa20-b3351fcf4659"
      },
      "source": [
        "w2v_model.train(sentences, total_examples=w2v_model.corpus_count, epochs=30, report_delay=1)\n",
        "\n",
        "print('Time to train the model: {} mins'.format(round((time() - t) / 60, 2)))"
      ],
      "execution_count": 28,
      "outputs": [
        {
          "output_type": "stream",
          "name": "stderr",
          "text": [
            "INFO - 13:04:55: training model with 1 workers on 3741 vocabulary and 300 features, using sg=0 hs=0 sample=6e-05 negative=20 window=2\n",
            "INFO - 13:04:56: EPOCH 1 - PROGRESS: at 24.22% examples, 70783 words/s, in_qsize 0, out_qsize 0\n",
            "INFO - 13:04:57: EPOCH 1 - PROGRESS: at 45.65% examples, 70532 words/s, in_qsize 0, out_qsize 0\n",
            "INFO - 13:04:58: EPOCH 1 - PROGRESS: at 71.18% examples, 71815 words/s, in_qsize 0, out_qsize 0\n",
            "INFO - 13:04:59: EPOCH 1 - PROGRESS: at 97.09% examples, 72376 words/s, in_qsize 0, out_qsize 0\n",
            "INFO - 13:04:59: worker thread finished; awaiting finish of 0 more threads\n",
            "INFO - 13:04:59: EPOCH - 1 : training on 829390 raw words (307444 effective words) took 4.2s, 72939 effective words/s\n",
            "INFO - 13:05:00: EPOCH 2 - PROGRESS: at 24.22% examples, 70830 words/s, in_qsize 0, out_qsize 0\n",
            "INFO - 13:05:01: EPOCH 2 - PROGRESS: at 47.36% examples, 72611 words/s, in_qsize 0, out_qsize 0\n",
            "INFO - 13:05:02: EPOCH 2 - PROGRESS: at 73.50% examples, 73709 words/s, in_qsize 0, out_qsize 0\n",
            "INFO - 13:05:03: EPOCH 2 - PROGRESS: at 98.25% examples, 73906 words/s, in_qsize 0, out_qsize 0\n",
            "INFO - 13:05:03: worker thread finished; awaiting finish of 0 more threads\n",
            "INFO - 13:05:03: EPOCH - 2 : training on 829390 raw words (308369 effective words) took 4.1s, 74362 effective words/s\n",
            "INFO - 13:05:04: EPOCH 3 - PROGRESS: at 24.22% examples, 70851 words/s, in_qsize 0, out_qsize 0\n",
            "INFO - 13:05:05: EPOCH 3 - PROGRESS: at 47.36% examples, 72482 words/s, in_qsize 0, out_qsize 0\n",
            "INFO - 13:05:06: EPOCH 3 - PROGRESS: at 73.50% examples, 73827 words/s, in_qsize 1, out_qsize 0\n",
            "INFO - 13:05:07: EPOCH 3 - PROGRESS: at 98.25% examples, 73707 words/s, in_qsize 0, out_qsize 0\n",
            "INFO - 13:05:07: worker thread finished; awaiting finish of 0 more threads\n",
            "INFO - 13:05:07: EPOCH - 3 : training on 829390 raw words (307819 effective words) took 4.1s, 74259 effective words/s\n",
            "INFO - 13:05:08: EPOCH 4 - PROGRESS: at 24.22% examples, 72539 words/s, in_qsize 0, out_qsize 0\n",
            "INFO - 13:05:09: EPOCH 4 - PROGRESS: at 47.36% examples, 73586 words/s, in_qsize 0, out_qsize 0\n",
            "INFO - 13:05:10: EPOCH 4 - PROGRESS: at 73.50% examples, 74808 words/s, in_qsize 0, out_qsize 0\n",
            "INFO - 13:05:11: EPOCH 4 - PROGRESS: at 99.40% examples, 75187 words/s, in_qsize 1, out_qsize 0\n",
            "INFO - 13:05:11: worker thread finished; awaiting finish of 0 more threads\n",
            "INFO - 13:05:11: EPOCH - 4 : training on 829390 raw words (307804 effective words) took 4.1s, 75151 effective words/s\n",
            "INFO - 13:05:12: EPOCH 5 - PROGRESS: at 24.22% examples, 72123 words/s, in_qsize 0, out_qsize 0\n",
            "INFO - 13:05:14: EPOCH 5 - PROGRESS: at 47.36% examples, 73450 words/s, in_qsize 0, out_qsize 0\n",
            "INFO - 13:05:15: EPOCH 5 - PROGRESS: at 73.50% examples, 74959 words/s, in_qsize 0, out_qsize 0\n",
            "INFO - 13:05:16: EPOCH 5 - PROGRESS: at 98.25% examples, 74791 words/s, in_qsize 0, out_qsize 0\n",
            "INFO - 13:05:16: worker thread finished; awaiting finish of 0 more threads\n",
            "INFO - 13:05:16: EPOCH - 5 : training on 829390 raw words (308051 effective words) took 4.1s, 74995 effective words/s\n",
            "INFO - 13:05:17: EPOCH 6 - PROGRESS: at 24.22% examples, 73267 words/s, in_qsize 0, out_qsize 0\n",
            "INFO - 13:05:18: EPOCH 6 - PROGRESS: at 48.66% examples, 75015 words/s, in_qsize 1, out_qsize 0\n",
            "INFO - 13:05:19: EPOCH 6 - PROGRESS: at 73.50% examples, 74854 words/s, in_qsize 0, out_qsize 0\n",
            "INFO - 13:05:20: worker thread finished; awaiting finish of 0 more threads\n",
            "INFO - 13:05:20: EPOCH - 6 : training on 829390 raw words (307487 effective words) took 4.1s, 75918 effective words/s\n",
            "INFO - 13:05:21: EPOCH 7 - PROGRESS: at 24.22% examples, 73234 words/s, in_qsize 1, out_qsize 0\n",
            "INFO - 13:05:22: EPOCH 7 - PROGRESS: at 47.36% examples, 73804 words/s, in_qsize 0, out_qsize 0\n",
            "INFO - 13:05:23: EPOCH 7 - PROGRESS: at 73.50% examples, 75057 words/s, in_qsize 0, out_qsize 0\n",
            "INFO - 13:05:24: EPOCH 7 - PROGRESS: at 99.40% examples, 75855 words/s, in_qsize 1, out_qsize 0\n",
            "INFO - 13:05:24: worker thread finished; awaiting finish of 0 more threads\n",
            "INFO - 13:05:24: EPOCH - 7 : training on 829390 raw words (307661 effective words) took 4.1s, 75901 effective words/s\n",
            "INFO - 13:05:25: EPOCH 8 - PROGRESS: at 24.99% examples, 73528 words/s, in_qsize 0, out_qsize 0\n",
            "INFO - 13:05:26: EPOCH 8 - PROGRESS: at 48.66% examples, 73882 words/s, in_qsize 0, out_qsize 0\n",
            "INFO - 13:05:27: EPOCH 8 - PROGRESS: at 74.47% examples, 74807 words/s, in_qsize 0, out_qsize 0\n",
            "INFO - 13:05:28: worker thread finished; awaiting finish of 0 more threads\n",
            "INFO - 13:05:28: EPOCH - 8 : training on 829390 raw words (306944 effective words) took 4.0s, 75795 effective words/s\n",
            "INFO - 13:05:29: EPOCH 9 - PROGRESS: at 24.99% examples, 73643 words/s, in_qsize 0, out_qsize 0\n",
            "INFO - 13:05:30: EPOCH 9 - PROGRESS: at 48.66% examples, 74797 words/s, in_qsize 1, out_qsize 0\n",
            "INFO - 13:05:31: EPOCH 9 - PROGRESS: at 74.47% examples, 75380 words/s, in_qsize 0, out_qsize 0\n",
            "INFO - 13:05:32: worker thread finished; awaiting finish of 0 more threads\n",
            "INFO - 13:05:32: EPOCH - 9 : training on 829390 raw words (307093 effective words) took 4.0s, 75959 effective words/s\n",
            "INFO - 13:05:33: EPOCH 10 - PROGRESS: at 24.22% examples, 72882 words/s, in_qsize 1, out_qsize 0\n",
            "INFO - 13:05:34: EPOCH 10 - PROGRESS: at 45.65% examples, 72717 words/s, in_qsize 0, out_qsize 0\n",
            "INFO - 13:05:35: EPOCH 10 - PROGRESS: at 72.54% examples, 74117 words/s, in_qsize 0, out_qsize 0\n",
            "INFO - 13:05:36: EPOCH 10 - PROGRESS: at 98.25% examples, 74375 words/s, in_qsize 0, out_qsize 0\n",
            "INFO - 13:05:36: worker thread finished; awaiting finish of 0 more threads\n",
            "INFO - 13:05:36: EPOCH - 10 : training on 829390 raw words (307722 effective words) took 4.1s, 74787 effective words/s\n",
            "INFO - 13:05:37: EPOCH 11 - PROGRESS: at 24.22% examples, 72708 words/s, in_qsize 0, out_qsize 0\n",
            "INFO - 13:05:38: EPOCH 11 - PROGRESS: at 47.36% examples, 74066 words/s, in_qsize 0, out_qsize 0\n",
            "INFO - 13:05:39: EPOCH 11 - PROGRESS: at 73.50% examples, 74551 words/s, in_qsize 1, out_qsize 0\n",
            "INFO - 13:05:40: EPOCH 11 - PROGRESS: at 99.40% examples, 75190 words/s, in_qsize 1, out_qsize 0\n",
            "INFO - 13:05:40: worker thread finished; awaiting finish of 0 more threads\n",
            "INFO - 13:05:40: EPOCH - 11 : training on 829390 raw words (307861 effective words) took 4.1s, 75229 effective words/s\n",
            "INFO - 13:05:41: EPOCH 12 - PROGRESS: at 24.99% examples, 73514 words/s, in_qsize 0, out_qsize 0\n",
            "INFO - 13:05:42: EPOCH 12 - PROGRESS: at 48.66% examples, 73909 words/s, in_qsize 1, out_qsize 0\n",
            "INFO - 13:05:43: EPOCH 12 - PROGRESS: at 74.47% examples, 74679 words/s, in_qsize 0, out_qsize 0\n",
            "INFO - 13:05:44: worker thread finished; awaiting finish of 0 more threads\n",
            "INFO - 13:05:44: EPOCH - 12 : training on 829390 raw words (307290 effective words) took 4.1s, 75738 effective words/s\n",
            "INFO - 13:05:45: EPOCH 13 - PROGRESS: at 24.99% examples, 73985 words/s, in_qsize 0, out_qsize 0\n",
            "INFO - 13:05:46: EPOCH 13 - PROGRESS: at 50.20% examples, 75066 words/s, in_qsize 0, out_qsize 0\n",
            "INFO - 13:05:47: EPOCH 13 - PROGRESS: at 75.80% examples, 75897 words/s, in_qsize 1, out_qsize 0\n",
            "INFO - 13:05:48: worker thread finished; awaiting finish of 0 more threads\n",
            "INFO - 13:05:48: EPOCH - 13 : training on 829390 raw words (307743 effective words) took 4.0s, 76407 effective words/s\n",
            "INFO - 13:05:49: EPOCH 14 - PROGRESS: at 24.22% examples, 72434 words/s, in_qsize 1, out_qsize 0\n",
            "INFO - 13:05:50: EPOCH 14 - PROGRESS: at 47.36% examples, 74341 words/s, in_qsize 0, out_qsize 0\n",
            "INFO - 13:05:51: EPOCH 14 - PROGRESS: at 73.50% examples, 74772 words/s, in_qsize 0, out_qsize 0\n",
            "INFO - 13:05:52: EPOCH 14 - PROGRESS: at 99.40% examples, 75424 words/s, in_qsize 1, out_qsize 0\n",
            "INFO - 13:05:52: worker thread finished; awaiting finish of 0 more threads\n",
            "INFO - 13:05:52: EPOCH - 14 : training on 829390 raw words (307835 effective words) took 4.1s, 75469 effective words/s\n",
            "INFO - 13:05:53: EPOCH 15 - PROGRESS: at 24.22% examples, 72803 words/s, in_qsize 0, out_qsize 0\n",
            "INFO - 13:05:54: EPOCH 15 - PROGRESS: at 47.36% examples, 74085 words/s, in_qsize 0, out_qsize 0\n",
            "INFO - 13:05:55: EPOCH 15 - PROGRESS: at 73.50% examples, 75120 words/s, in_qsize 0, out_qsize 0\n",
            "INFO - 13:05:56: EPOCH 15 - PROGRESS: at 98.25% examples, 74792 words/s, in_qsize 0, out_qsize 0\n",
            "INFO - 13:05:56: worker thread finished; awaiting finish of 0 more threads\n",
            "INFO - 13:05:56: EPOCH - 15 : training on 829390 raw words (307616 effective words) took 4.1s, 75356 effective words/s\n",
            "INFO - 13:05:57: EPOCH 16 - PROGRESS: at 24.99% examples, 74377 words/s, in_qsize 0, out_qsize 0\n",
            "INFO - 13:05:58: EPOCH 16 - PROGRESS: at 48.66% examples, 74554 words/s, in_qsize 1, out_qsize 0\n",
            "INFO - 13:05:59: EPOCH 16 - PROGRESS: at 74.47% examples, 74887 words/s, in_qsize 0, out_qsize 0\n",
            "INFO - 13:06:00: worker thread finished; awaiting finish of 0 more threads\n",
            "INFO - 13:06:00: EPOCH - 16 : training on 829390 raw words (307744 effective words) took 4.1s, 75627 effective words/s\n",
            "INFO - 13:06:01: EPOCH 17 - PROGRESS: at 24.99% examples, 73530 words/s, in_qsize 0, out_qsize 0\n",
            "INFO - 13:06:02: EPOCH 17 - PROGRESS: at 47.36% examples, 72926 words/s, in_qsize 0, out_qsize 0\n",
            "INFO - 13:06:03: EPOCH 17 - PROGRESS: at 72.54% examples, 73350 words/s, in_qsize 0, out_qsize 0\n",
            "INFO - 13:06:05: EPOCH 17 - PROGRESS: at 98.25% examples, 73836 words/s, in_qsize 2, out_qsize 0\n",
            "INFO - 13:06:05: worker thread finished; awaiting finish of 0 more threads\n",
            "INFO - 13:06:05: EPOCH - 17 : training on 829390 raw words (307367 effective words) took 4.1s, 74338 effective words/s\n",
            "INFO - 13:06:06: EPOCH 18 - PROGRESS: at 24.22% examples, 73178 words/s, in_qsize 0, out_qsize 0\n",
            "INFO - 13:06:07: EPOCH 18 - PROGRESS: at 47.36% examples, 74232 words/s, in_qsize 0, out_qsize 0\n",
            "INFO - 13:06:08: EPOCH 18 - PROGRESS: at 73.50% examples, 75295 words/s, in_qsize 0, out_qsize 0\n",
            "INFO - 13:06:09: EPOCH 18 - PROGRESS: at 99.40% examples, 75727 words/s, in_qsize 1, out_qsize 0\n",
            "INFO - 13:06:09: worker thread finished; awaiting finish of 0 more threads\n",
            "INFO - 13:06:09: EPOCH - 18 : training on 829390 raw words (307626 effective words) took 4.1s, 75701 effective words/s\n",
            "INFO - 13:06:10: EPOCH 19 - PROGRESS: at 24.99% examples, 74401 words/s, in_qsize 1, out_qsize 0\n",
            "INFO - 13:06:11: EPOCH 19 - PROGRESS: at 48.66% examples, 74023 words/s, in_qsize 0, out_qsize 0\n",
            "INFO - 13:06:12: EPOCH 19 - PROGRESS: at 74.47% examples, 74691 words/s, in_qsize 0, out_qsize 0\n",
            "INFO - 13:06:13: worker thread finished; awaiting finish of 0 more threads\n",
            "INFO - 13:06:13: EPOCH - 19 : training on 829390 raw words (307361 effective words) took 4.1s, 75633 effective words/s\n",
            "INFO - 13:06:14: EPOCH 20 - PROGRESS: at 24.22% examples, 72692 words/s, in_qsize 0, out_qsize 0\n",
            "INFO - 13:06:15: EPOCH 20 - PROGRESS: at 47.36% examples, 74054 words/s, in_qsize 0, out_qsize 0\n",
            "INFO - 13:06:16: EPOCH 20 - PROGRESS: at 73.50% examples, 74862 words/s, in_qsize 0, out_qsize 0\n",
            "INFO - 13:06:17: worker thread finished; awaiting finish of 0 more threads\n",
            "INFO - 13:06:17: EPOCH - 20 : training on 829390 raw words (307749 effective words) took 4.1s, 75929 effective words/s\n",
            "INFO - 13:06:18: EPOCH 21 - PROGRESS: at 24.99% examples, 73793 words/s, in_qsize 0, out_qsize 0\n",
            "INFO - 13:06:19: EPOCH 21 - PROGRESS: at 48.66% examples, 74360 words/s, in_qsize 0, out_qsize 0\n",
            "INFO - 13:06:20: EPOCH 21 - PROGRESS: at 74.47% examples, 75284 words/s, in_qsize 0, out_qsize 0\n",
            "INFO - 13:06:21: worker thread finished; awaiting finish of 0 more threads\n",
            "INFO - 13:06:21: EPOCH - 21 : training on 829390 raw words (307584 effective words) took 4.0s, 75980 effective words/s\n",
            "INFO - 13:06:22: EPOCH 22 - PROGRESS: at 24.22% examples, 71918 words/s, in_qsize 0, out_qsize 0\n",
            "INFO - 13:06:23: EPOCH 22 - PROGRESS: at 47.36% examples, 73123 words/s, in_qsize 0, out_qsize 0\n",
            "INFO - 13:06:24: EPOCH 22 - PROGRESS: at 73.50% examples, 74403 words/s, in_qsize 0, out_qsize 0\n",
            "INFO - 13:06:25: EPOCH 22 - PROGRESS: at 100.00% examples, 75590 words/s, in_qsize 0, out_qsize 1\n",
            "INFO - 13:06:25: worker thread finished; awaiting finish of 0 more threads\n",
            "INFO - 13:06:25: EPOCH - 22 : training on 829390 raw words (308032 effective words) took 4.1s, 75511 effective words/s\n",
            "INFO - 13:06:26: EPOCH 23 - PROGRESS: at 24.99% examples, 73299 words/s, in_qsize 0, out_qsize 0\n",
            "INFO - 13:06:27: EPOCH 23 - PROGRESS: at 48.66% examples, 73720 words/s, in_qsize 0, out_qsize 0\n",
            "INFO - 13:06:28: EPOCH 23 - PROGRESS: at 74.47% examples, 74384 words/s, in_qsize 1, out_qsize 0\n",
            "INFO - 13:06:29: worker thread finished; awaiting finish of 0 more threads\n",
            "INFO - 13:06:29: EPOCH - 23 : training on 829390 raw words (307749 effective words) took 4.1s, 75047 effective words/s\n",
            "INFO - 13:06:30: EPOCH 24 - PROGRESS: at 24.22% examples, 72448 words/s, in_qsize 0, out_qsize 0\n",
            "INFO - 13:06:31: EPOCH 24 - PROGRESS: at 47.36% examples, 73535 words/s, in_qsize 0, out_qsize 0\n",
            "INFO - 13:06:32: EPOCH 24 - PROGRESS: at 73.50% examples, 74288 words/s, in_qsize 0, out_qsize 0\n",
            "INFO - 13:06:33: EPOCH 24 - PROGRESS: at 100.00% examples, 75444 words/s, in_qsize 0, out_qsize 1\n",
            "INFO - 13:06:33: worker thread finished; awaiting finish of 0 more threads\n",
            "INFO - 13:06:33: EPOCH - 24 : training on 829390 raw words (307003 effective words) took 4.1s, 75291 effective words/s\n",
            "INFO - 13:06:34: EPOCH 25 - PROGRESS: at 24.22% examples, 72345 words/s, in_qsize 0, out_qsize 0\n",
            "INFO - 13:06:35: EPOCH 25 - PROGRESS: at 47.36% examples, 73818 words/s, in_qsize 0, out_qsize 0\n",
            "INFO - 13:06:36: EPOCH 25 - PROGRESS: at 73.50% examples, 74466 words/s, in_qsize 0, out_qsize 0\n",
            "INFO - 13:06:37: worker thread finished; awaiting finish of 0 more threads\n",
            "INFO - 13:06:37: EPOCH - 25 : training on 829390 raw words (307588 effective words) took 4.1s, 75671 effective words/s\n",
            "INFO - 13:06:38: EPOCH 26 - PROGRESS: at 24.99% examples, 74217 words/s, in_qsize 0, out_qsize 0\n",
            "INFO - 13:06:39: EPOCH 26 - PROGRESS: at 48.66% examples, 74843 words/s, in_qsize 1, out_qsize 0\n",
            "INFO - 13:06:40: EPOCH 26 - PROGRESS: at 74.47% examples, 75482 words/s, in_qsize 1, out_qsize 0\n",
            "INFO - 13:06:41: worker thread finished; awaiting finish of 0 more threads\n",
            "INFO - 13:06:41: EPOCH - 26 : training on 829390 raw words (307401 effective words) took 4.0s, 76158 effective words/s\n",
            "INFO - 13:06:42: EPOCH 27 - PROGRESS: at 24.22% examples, 72729 words/s, in_qsize 0, out_qsize 0\n",
            "INFO - 13:06:43: EPOCH 27 - PROGRESS: at 47.36% examples, 74314 words/s, in_qsize 0, out_qsize 0\n",
            "INFO - 13:06:44: EPOCH 27 - PROGRESS: at 73.50% examples, 75044 words/s, in_qsize 0, out_qsize 0\n",
            "INFO - 13:06:45: EPOCH 27 - PROGRESS: at 99.40% examples, 75753 words/s, in_qsize 1, out_qsize 0\n",
            "INFO - 13:06:45: worker thread finished; awaiting finish of 0 more threads\n",
            "INFO - 13:06:45: EPOCH - 27 : training on 829390 raw words (307461 effective words) took 4.1s, 75731 effective words/s\n",
            "INFO - 13:06:46: EPOCH 28 - PROGRESS: at 24.22% examples, 72883 words/s, in_qsize 0, out_qsize 0\n",
            "INFO - 13:06:47: EPOCH 28 - PROGRESS: at 47.36% examples, 74616 words/s, in_qsize 0, out_qsize 0\n",
            "INFO - 13:06:48: EPOCH 28 - PROGRESS: at 73.50% examples, 74714 words/s, in_qsize 0, out_qsize 0\n",
            "INFO - 13:06:49: EPOCH 28 - PROGRESS: at 100.00% examples, 75822 words/s, in_qsize 0, out_qsize 1\n",
            "INFO - 13:06:49: worker thread finished; awaiting finish of 0 more threads\n",
            "INFO - 13:06:49: EPOCH - 28 : training on 829390 raw words (307596 effective words) took 4.1s, 75759 effective words/s\n",
            "INFO - 13:06:50: EPOCH 29 - PROGRESS: at 24.22% examples, 71932 words/s, in_qsize 0, out_qsize 0\n",
            "INFO - 13:06:51: EPOCH 29 - PROGRESS: at 47.36% examples, 74063 words/s, in_qsize 0, out_qsize 0\n",
            "INFO - 13:06:52: EPOCH 29 - PROGRESS: at 72.54% examples, 74295 words/s, in_qsize 0, out_qsize 0\n",
            "INFO - 13:06:53: EPOCH 29 - PROGRESS: at 98.25% examples, 74681 words/s, in_qsize 0, out_qsize 0\n",
            "INFO - 13:06:53: worker thread finished; awaiting finish of 0 more threads\n",
            "INFO - 13:06:53: EPOCH - 29 : training on 829390 raw words (307650 effective words) took 4.1s, 75011 effective words/s\n",
            "INFO - 13:06:55: EPOCH 30 - PROGRESS: at 24.22% examples, 72599 words/s, in_qsize 0, out_qsize 0\n",
            "INFO - 13:06:56: EPOCH 30 - PROGRESS: at 47.36% examples, 73635 words/s, in_qsize 0, out_qsize 0\n",
            "INFO - 13:06:57: EPOCH 30 - PROGRESS: at 73.50% examples, 74332 words/s, in_qsize 0, out_qsize 0\n",
            "INFO - 13:06:58: EPOCH 30 - PROGRESS: at 100.00% examples, 75497 words/s, in_qsize 0, out_qsize 1\n",
            "INFO - 13:06:58: worker thread finished; awaiting finish of 0 more threads\n",
            "INFO - 13:06:58: EPOCH - 30 : training on 829390 raw words (307776 effective words) took 4.1s, 75429 effective words/s\n",
            "INFO - 13:06:58: training on a 24881700 raw words (9228426 effective words) took 122.8s, 75167 effective words/s\n"
          ]
        },
        {
          "output_type": "stream",
          "name": "stdout",
          "text": [
            "Time to train the model: 3.42 mins\n"
          ]
        }
      ]
    },
    {
      "cell_type": "markdown",
      "metadata": {
        "id": "ts-hf292A4Kk"
      },
      "source": [
        "**Explorando o modelo**\n",
        "\n",
        "**most_similar**: Aqui, pediremos ao nosso modelo para encontrar a palavra mais semelhante a algumas das palavras no corpus"
      ]
    },
    {
      "cell_type": "code",
      "metadata": {
        "colab": {
          "base_uri": "https://localhost:8080/"
        },
        "id": "jQgImbgkA-Of",
        "outputId": "b882e247-1a07-4a28-812b-76c5c8610e00"
      },
      "source": [
        "w2v_model.wv.most_similar(positive=[\"price\"])"
      ],
      "execution_count": 30,
      "outputs": [
        {
          "output_type": "execute_result",
          "data": {
            "text/plain": [
              "[('reasonable', 0.7253458499908447),\n",
              " ('value', 0.6945016384124756),\n",
              " ('low', 0.6810997128486633),\n",
              " ('fair', 0.6771150827407837),\n",
              " ('prices', 0.674656331539154),\n",
              " ('affordable', 0.6351126432418823),\n",
              " ('paid', 0.6317597031593323),\n",
              " ('value_money', 0.6292351484298706),\n",
              " ('accommodation', 0.6078981161117554),\n",
              " ('expensive', 0.6017715334892273)]"
            ]
          },
          "metadata": {},
          "execution_count": 30
        }
      ]
    },
    {
      "cell_type": "markdown",
      "metadata": {
        "id": "zMGKgX0VBnph"
      },
      "source": [
        "**visualização com t-SNE:**\n",
        "\n",
        "t-SNE é um algoritmo de redução de dimensionalidade não linear que tenta representar dados de alta dimensão e as relações subjacentes entre vetores em um espaço de dimensão inferior."
      ]
    },
    {
      "cell_type": "code",
      "metadata": {
        "id": "RXxXvjJzBwyE"
      },
      "source": [
        "import numpy as np\n",
        "import matplotlib.pyplot as plt\n",
        "%matplotlib inline\n",
        " \n",
        "import seaborn as sns\n",
        "sns.set_style(\"darkgrid\")\n",
        "\n",
        "from sklearn.decomposition import PCA\n",
        "from sklearn.manifold import TSNE"
      ],
      "execution_count": 31,
      "outputs": []
    },
    {
      "cell_type": "markdown",
      "metadata": {
        "id": "LQMd1q9IB2_S"
      },
      "source": [
        "Para tornar as visualizações mais relevantes, examinaremos as relações entre uma palavra de consulta (em **vermelho**), suas palavras mais semelhantes no modelo (em **azul**) e outras palavras do vocabulário (em **verde**)."
      ]
    },
    {
      "cell_type": "code",
      "metadata": {
        "id": "Wc5CNUfVCHPs"
      },
      "source": [
        "def tsnescatterplot(model, word, list_names):\n",
        "    \"\"\" Plotando com seaborn os resultados do algoritmo de redução de dimensionalidade t-SNE dos vetores de uma palavra de consulta,\n",
        "    sua lista de palavras mais semelhantes e uma lista de palavras\n",
        "    \"\"\"\n",
        "    arrays = np.empty((0, 300), dtype='f')\n",
        "    word_labels = [word]\n",
        "    color_list  = ['red']\n",
        "\n",
        "    # adiciona o vetor da palavra de consulta\n",
        "    arrays = np.append(arrays, model.wv.__getitem__([word]), axis=0)\n",
        "    \n",
        "    # obtém a lista das palavras mais semelhantes\n",
        "    close_words = model.wv.most_similar([word])\n",
        "    \n",
        "    # adiciona o vetor para cada uma das palavras mais próximas da matriz\n",
        "    for wrd_score in close_words:\n",
        "        wrd_vector = model.wv.__getitem__([wrd_score[0]])\n",
        "        word_labels.append(wrd_score[0])\n",
        "        color_list.append('blue')\n",
        "        arrays = np.append(arrays, wrd_vector, axis=0)\n",
        "    \n",
        "    # adiciona o vetor para cada uma das palavras de list_names ao array\n",
        "    for wrd in list_names:\n",
        "        wrd_vector = model.wv.__getitem__([wrd])\n",
        "        word_labels.append(wrd)\n",
        "        color_list.append('green')\n",
        "        arrays = np.append(arrays, wrd_vector, axis=0)\n",
        "        \n",
        "    # Reduz a dimensionalidade de 300 para 50 dimensões com PCA\n",
        "    reduc = PCA(n_components=20).fit_transform(arrays)\n",
        "    \n",
        "    # Encontra coordenadas t-SNE para 2 dimensões\n",
        "    np.set_printoptions(suppress=True)\n",
        "    \n",
        "    Y = TSNE(n_components=2, random_state=0, perplexity=15).fit_transform(reduc)\n",
        "    \n",
        "    # configurando o plot\n",
        "    df = pd.DataFrame({'x': [x for x in Y[:, 0]],\n",
        "                       'y': [y for y in Y[:, 1]],\n",
        "                       'words': word_labels,\n",
        "                       'color': color_list})\n",
        "    \n",
        "    fig, _ = plt.subplots()\n",
        "    fig.set_size_inches(9, 9)\n",
        "    \n",
        "    # plot básico\n",
        "    p1 = sns.regplot(data=df,\n",
        "                     x=\"x\",\n",
        "                     y=\"y\",\n",
        "                     fit_reg=False,\n",
        "                     marker=\"o\",\n",
        "                     scatter_kws={'s': 40,\n",
        "                                  'facecolors': df['color']\n",
        "                                 }\n",
        "                    )\n",
        "    \n",
        "    # Adiciona anotações uma a uma com um loop\n",
        "    for line in range(0, df.shape[0]):\n",
        "         p1.text(df[\"x\"][line],\n",
        "                 df['y'][line],\n",
        "                 '  ' + df[\"words\"][line].title(),\n",
        "                 horizontalalignment='left',\n",
        "                 verticalalignment='bottom', size='medium',\n",
        "                 color=df['color'][line],\n",
        "                 weight='normal'\n",
        "                ).set_size(15)\n",
        "\n",
        "    \n",
        "    plt.xlim(Y[:, 0].min()-50, Y[:, 0].max()+50)\n",
        "    plt.ylim(Y[:, 1].min()-50, Y[:, 1].max()+50)\n",
        "            \n",
        "    plt.title('t-SNE visualization for {}'.format(word.title()))"
      ],
      "execution_count": 32,
      "outputs": []
    },
    {
      "cell_type": "markdown",
      "metadata": {
        "id": "yQ9_2cQvCat0"
      },
      "source": [
        "Vamos verificar as 20 palavras semelhantes a '**preço**' e traçá-las."
      ]
    },
    {
      "cell_type": "code",
      "metadata": {
        "colab": {
          "base_uri": "https://localhost:8080/",
          "height": 567
        },
        "id": "5E7vIXdiCr23",
        "outputId": "13c6ecf2-21cd-4b6b-aac2-aadeaf337d44"
      },
      "source": [
        "tsnescatterplot(w2v_model, 'price',[t[0] for t in w2v_model.wv.most_similar(positive=[\"price\"], topn=20)][10:])"
      ],
      "execution_count": 33,
      "outputs": [
        {
          "output_type": "display_data",
          "data": {
            "image/png": "[encoded data removed]",
            "text/plain": [
              "<Figure size 648x648 with 1 Axes>"
            ]
          },
          "metadata": {}
        }
      ]
    },
    {
      "cell_type": "markdown",
      "metadata": {
        "id": "xsmcG14sDVx7"
      },
      "source": [
        "Vamos ver a diferença com as 30 principais palavras semelhantes."
      ]
    },
    {
      "cell_type": "code",
      "metadata": {
        "colab": {
          "base_uri": "https://localhost:8080/",
          "height": 567
        },
        "id": "evedAJrRDfgD",
        "outputId": "2b43e13a-0bb8-4ffe-cdc5-1b133d3432ee"
      },
      "source": [
        "tsnescatterplot(w2v_model, 'price',[t[0] for t in w2v_model.wv.most_similar(positive=[\"price\"], topn=30)][10:])"
      ],
      "execution_count": 35,
      "outputs": [
        {
          "output_type": "display_data",
          "data": {
            "image/png": "[encoded data removed]",
            "text/plain": [
              "<Figure size 648x648 with 1 Axes>"
            ]
          },
          "metadata": {}
        }
      ]
    },
    {
      "cell_type": "markdown",
      "metadata": {
        "id": "w6oE8VK6D4SO"
      },
      "source": [
        "**Vamos ver se funciona com outras palavras**"
      ]
    },
    {
      "cell_type": "code",
      "metadata": {
        "colab": {
          "base_uri": "https://localhost:8080/",
          "height": 567
        },
        "id": "QHZepxQtD9zX",
        "outputId": "666ed34f-a2db-40f4-d19f-3b87fc4faab2"
      },
      "source": [
        "tsnescatterplot(w2v_model, 'clean',[t[0] for t in w2v_model.wv.most_similar(positive=[\"clean\"], topn=20)][10:])"
      ],
      "execution_count": 36,
      "outputs": [
        {
          "output_type": "display_data",
          "data": {
            "image/png": "[encoded data removed]",
            "text/plain": [
              "<Figure size 648x648 with 1 Axes>"
            ]
          },
          "metadata": {}
        }
      ]
    },
    {
      "cell_type": "markdown",
      "metadata": {
        "id": "snbQo2rlEMug"
      },
      "source": [
        "está novamente dando ótimos resultados."
      ]
    },
    {
      "cell_type": "markdown",
      "metadata": {
        "id": "3G4zH0JdESg8"
      },
      "source": [
        "vamos ver se funciona para algo aleatório"
      ]
    },
    {
      "cell_type": "code",
      "metadata": {
        "colab": {
          "base_uri": "https://localhost:8080/",
          "height": 567
        },
        "id": "uCbt6LR_EXTJ",
        "outputId": "6de3ee8d-3205-4564-8d45-c348929e2f63"
      },
      "source": [
        "tsnescatterplot(w2v_model, 'kids',[t[0] for t in w2v_model.wv.most_similar(positive=[\"kids\"], topn=20)][10:])"
      ],
      "execution_count": 37,
      "outputs": [
        {
          "output_type": "display_data",
          "data": {
            "image/png": "[encoded data removed]",
            "text/plain": [
              "<Figure size 648x648 with 1 Axes>"
            ]
          },
          "metadata": {}
        }
      ]
    }
  ]
}